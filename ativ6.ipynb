{
 "cells": [
  {
   "cell_type": "code",
   "execution_count": 48,
   "id": "33628b0f-96ab-4511-92d8-82c26f388621",
   "metadata": {},
   "outputs": [
    {
     "name": "stdout",
     "output_type": "stream",
     "text": [
      "Requirement already satisfied: qiskit in c:\\users\\admin\\miniconda3\\envs\\qiskit\\lib\\site-packages (1.1.0)\n",
      "Collecting qiskit\n",
      "  Downloading qiskit-1.2.0-cp38-abi3-win_amd64.whl.metadata (13 kB)\n",
      "Collecting rustworkx>=0.15.0 (from qiskit)\n",
      "  Downloading rustworkx-0.15.1-cp38-abi3-win_amd64.whl.metadata (10 kB)\n",
      "Requirement already satisfied: numpy<3,>=1.17 in c:\\users\\admin\\miniconda3\\envs\\qiskit\\lib\\site-packages (from qiskit) (1.26.4)\n",
      "Requirement already satisfied: scipy>=1.5 in c:\\users\\admin\\miniconda3\\envs\\qiskit\\lib\\site-packages (from qiskit) (1.13.0)\n",
      "Requirement already satisfied: sympy>=1.3 in c:\\users\\admin\\miniconda3\\envs\\qiskit\\lib\\site-packages (from qiskit) (1.12)\n",
      "Requirement already satisfied: dill>=0.3 in c:\\users\\admin\\miniconda3\\envs\\qiskit\\lib\\site-packages (from qiskit) (0.3.8)\n",
      "Requirement already satisfied: python-dateutil>=2.8.0 in c:\\users\\admin\\appdata\\roaming\\python\\python312\\site-packages (from qiskit) (2.8.2)\n",
      "Requirement already satisfied: stevedore>=3.0.0 in c:\\users\\admin\\miniconda3\\envs\\qiskit\\lib\\site-packages (from qiskit) (5.2.0)\n",
      "Requirement already satisfied: typing-extensions in c:\\users\\admin\\miniconda3\\envs\\qiskit\\lib\\site-packages (from qiskit) (4.11.0)\n",
      "Requirement already satisfied: symengine>=0.11 in c:\\users\\admin\\miniconda3\\envs\\qiskit\\lib\\site-packages (from qiskit) (0.11.0)\n",
      "Requirement already satisfied: six>=1.5 in c:\\users\\admin\\appdata\\roaming\\python\\python312\\site-packages (from python-dateutil>=2.8.0->qiskit) (1.16.0)\n",
      "Requirement already satisfied: pbr!=2.1.0,>=2.0.0 in c:\\users\\admin\\miniconda3\\envs\\qiskit\\lib\\site-packages (from stevedore>=3.0.0->qiskit) (6.0.0)\n",
      "Requirement already satisfied: mpmath>=0.19 in c:\\users\\admin\\miniconda3\\envs\\qiskit\\lib\\site-packages (from sympy>=1.3->qiskit) (1.3.0)\n",
      "Downloading qiskit-1.2.0-cp38-abi3-win_amd64.whl (4.6 MB)\n",
      "   ---------------------------------------- 0.0/4.6 MB ? eta -:--:--\n",
      "   ---------------------------------------- 0.0/4.6 MB 653.6 kB/s eta 0:00:07\n",
      "   ---------------------------------------- 0.0/4.6 MB 653.6 kB/s eta 0:00:07\n",
      "    --------------------------------------- 0.1/4.6 MB 731.4 kB/s eta 0:00:07\n",
      "   - -------------------------------------- 0.1/4.6 MB 711.9 kB/s eta 0:00:07\n",
      "   -- ------------------------------------- 0.2/4.6 MB 962.7 kB/s eta 0:00:05\n",
      "   -- ------------------------------------- 0.3/4.6 MB 983.0 kB/s eta 0:00:05\n",
      "   -- ------------------------------------- 0.3/4.6 MB 936.6 kB/s eta 0:00:05\n",
      "   --- ------------------------------------ 0.4/4.6 MB 1.1 MB/s eta 0:00:04\n",
      "   ---- ----------------------------------- 0.5/4.6 MB 1.2 MB/s eta 0:00:04\n",
      "   ----- ---------------------------------- 0.6/4.6 MB 1.3 MB/s eta 0:00:04\n",
      "   ------ --------------------------------- 0.7/4.6 MB 1.4 MB/s eta 0:00:03\n",
      "   ------- -------------------------------- 0.9/4.6 MB 1.5 MB/s eta 0:00:03\n",
      "   -------- ------------------------------- 1.0/4.6 MB 1.6 MB/s eta 0:00:03\n",
      "   --------- ------------------------------ 1.1/4.6 MB 1.6 MB/s eta 0:00:03\n",
      "   --------- ------------------------------ 1.1/4.6 MB 1.6 MB/s eta 0:00:03\n",
      "   ---------- ----------------------------- 1.2/4.6 MB 1.6 MB/s eta 0:00:03\n",
      "   ----------- ---------------------------- 1.3/4.6 MB 1.6 MB/s eta 0:00:03\n",
      "   ----------- ---------------------------- 1.4/4.6 MB 1.6 MB/s eta 0:00:03\n",
      "   ------------ --------------------------- 1.4/4.6 MB 1.6 MB/s eta 0:00:03\n",
      "   ------------ --------------------------- 1.5/4.6 MB 1.5 MB/s eta 0:00:03\n",
      "   ------------- -------------------------- 1.6/4.6 MB 1.6 MB/s eta 0:00:02\n",
      "   -------------- ------------------------- 1.6/4.6 MB 1.6 MB/s eta 0:00:02\n",
      "   --------------- ------------------------ 1.7/4.6 MB 1.6 MB/s eta 0:00:02\n",
      "   --------------- ------------------------ 1.8/4.6 MB 1.6 MB/s eta 0:00:02\n",
      "   ---------------- ----------------------- 1.9/4.6 MB 1.6 MB/s eta 0:00:02\n",
      "   ----------------- ---------------------- 2.0/4.6 MB 1.7 MB/s eta 0:00:02\n",
      "   ------------------ --------------------- 2.1/4.6 MB 1.7 MB/s eta 0:00:02\n",
      "   ------------------- -------------------- 2.2/4.6 MB 1.7 MB/s eta 0:00:02\n",
      "   ------------------- -------------------- 2.3/4.6 MB 1.7 MB/s eta 0:00:02\n",
      "   -------------------- ------------------- 2.3/4.6 MB 1.7 MB/s eta 0:00:02\n",
      "   --------------------- ------------------ 2.4/4.6 MB 1.7 MB/s eta 0:00:02\n",
      "   --------------------- ------------------ 2.5/4.6 MB 1.7 MB/s eta 0:00:02\n",
      "   ---------------------- ----------------- 2.6/4.6 MB 1.7 MB/s eta 0:00:02\n",
      "   ----------------------- ---------------- 2.7/4.6 MB 1.7 MB/s eta 0:00:02\n",
      "   ----------------------- ---------------- 2.7/4.6 MB 1.7 MB/s eta 0:00:02\n",
      "   ------------------------ --------------- 2.9/4.6 MB 1.7 MB/s eta 0:00:02\n",
      "   ------------------------- -------------- 2.9/4.6 MB 1.7 MB/s eta 0:00:01\n",
      "   -------------------------- ------------- 3.1/4.6 MB 1.7 MB/s eta 0:00:01\n",
      "   --------------------------- ------------ 3.1/4.6 MB 1.7 MB/s eta 0:00:01\n",
      "   --------------------------- ------------ 3.2/4.6 MB 1.7 MB/s eta 0:00:01\n",
      "   ---------------------------- ----------- 3.2/4.6 MB 1.7 MB/s eta 0:00:01\n",
      "   ---------------------------- ----------- 3.3/4.6 MB 1.7 MB/s eta 0:00:01\n",
      "   ----------------------------- ---------- 3.3/4.6 MB 1.7 MB/s eta 0:00:01\n",
      "   ------------------------------ --------- 3.5/4.6 MB 1.7 MB/s eta 0:00:01\n",
      "   ------------------------------ --------- 3.5/4.6 MB 1.7 MB/s eta 0:00:01\n",
      "   ------------------------------- -------- 3.6/4.6 MB 1.7 MB/s eta 0:00:01\n",
      "   -------------------------------- ------- 3.7/4.6 MB 1.7 MB/s eta 0:00:01\n",
      "   -------------------------------- ------- 3.8/4.6 MB 1.7 MB/s eta 0:00:01\n",
      "   --------------------------------- ------ 3.9/4.6 MB 1.7 MB/s eta 0:00:01\n",
      "   --------------------------------- ------ 3.9/4.6 MB 1.7 MB/s eta 0:00:01\n",
      "   ---------------------------------- ----- 3.9/4.6 MB 1.6 MB/s eta 0:00:01\n",
      "   ---------------------------------- ----- 4.0/4.6 MB 1.6 MB/s eta 0:00:01\n",
      "   ----------------------------------- ---- 4.1/4.6 MB 1.6 MB/s eta 0:00:01\n",
      "   ------------------------------------ --- 4.2/4.6 MB 1.7 MB/s eta 0:00:01\n",
      "   ------------------------------------ --- 4.2/4.6 MB 1.6 MB/s eta 0:00:01\n",
      "   ------------------------------------- -- 4.2/4.6 MB 1.6 MB/s eta 0:00:01\n",
      "   ------------------------------------- -- 4.3/4.6 MB 1.6 MB/s eta 0:00:01\n",
      "   -------------------------------------- - 4.4/4.6 MB 1.6 MB/s eta 0:00:01\n",
      "   -------------------------------------- - 4.4/4.6 MB 1.6 MB/s eta 0:00:01\n",
      "   ---------------------------------------  4.5/4.6 MB 1.6 MB/s eta 0:00:01\n",
      "   ---------------------------------------  4.6/4.6 MB 1.6 MB/s eta 0:00:01\n",
      "   ---------------------------------------- 4.6/4.6 MB 1.6 MB/s eta 0:00:00\n",
      "Downloading rustworkx-0.15.1-cp38-abi3-win_amd64.whl (1.8 MB)\n",
      "   ---------------------------------------- 0.0/1.8 MB ? eta -:--:--\n",
      "    --------------------------------------- 0.0/1.8 MB 1.4 MB/s eta 0:00:02\n",
      "   - -------------------------------------- 0.1/1.8 MB 787.7 kB/s eta 0:00:03\n",
      "   -- ------------------------------------- 0.1/1.8 MB 901.1 kB/s eta 0:00:02\n",
      "   --- ------------------------------------ 0.2/1.8 MB 833.5 kB/s eta 0:00:03\n",
      "   ------ --------------------------------- 0.3/1.8 MB 1.3 MB/s eta 0:00:02\n",
      "   ------ --------------------------------- 0.3/1.8 MB 1.2 MB/s eta 0:00:02\n",
      "   -------- ------------------------------- 0.4/1.8 MB 1.1 MB/s eta 0:00:02\n",
      "   --------- ------------------------------ 0.5/1.8 MB 1.2 MB/s eta 0:00:02\n",
      "   ----------- ---------------------------- 0.5/1.8 MB 1.3 MB/s eta 0:00:02\n",
      "   -------------- ------------------------- 0.6/1.8 MB 1.4 MB/s eta 0:00:01\n",
      "   ---------------- ----------------------- 0.7/1.8 MB 1.5 MB/s eta 0:00:01\n",
      "   ----------------- ---------------------- 0.8/1.8 MB 1.5 MB/s eta 0:00:01\n",
      "   -------------------- ------------------- 1.0/1.8 MB 1.6 MB/s eta 0:00:01\n",
      "   --------------------- ------------------ 1.0/1.8 MB 1.5 MB/s eta 0:00:01\n",
      "   ----------------------- ---------------- 1.1/1.8 MB 1.6 MB/s eta 0:00:01\n",
      "   ------------------------ --------------- 1.1/1.8 MB 1.5 MB/s eta 0:00:01\n",
      "   -------------------------- ------------- 1.2/1.8 MB 1.6 MB/s eta 0:00:01\n",
      "   ---------------------------- ----------- 1.3/1.8 MB 1.5 MB/s eta 0:00:01\n",
      "   ----------------------------- ---------- 1.4/1.8 MB 1.6 MB/s eta 0:00:01\n",
      "   ------------------------------- -------- 1.5/1.8 MB 1.6 MB/s eta 0:00:01\n",
      "   -------------------------------- ------- 1.5/1.8 MB 1.6 MB/s eta 0:00:01\n",
      "   ----------------------------------- ---- 1.6/1.8 MB 1.6 MB/s eta 0:00:01\n",
      "   ------------------------------------ --- 1.7/1.8 MB 1.6 MB/s eta 0:00:01\n",
      "   ------------------------------------- -- 1.7/1.8 MB 1.6 MB/s eta 0:00:01\n",
      "   ---------------------------------------  1.8/1.8 MB 1.6 MB/s eta 0:00:01\n",
      "   ---------------------------------------- 1.8/1.8 MB 1.5 MB/s eta 0:00:00\n",
      "Installing collected packages: rustworkx, qiskit\n",
      "  Attempting uninstall: rustworkx\n",
      "    Found existing installation: rustworkx 0.14.2\n",
      "    Uninstalling rustworkx-0.14.2:\n",
      "      Successfully uninstalled rustworkx-0.14.2\n",
      "  Attempting uninstall: qiskit\n",
      "    Found existing installation: qiskit 1.1.0\n",
      "    Uninstalling qiskit-1.1.0:\n",
      "      Successfully uninstalled qiskit-1.1.0\n",
      "Successfully installed qiskit-1.2.0 rustworkx-0.15.1\n",
      "Note: you may need to restart the kernel to use updated packages.\n"
     ]
    },
    {
     "name": "stderr",
     "output_type": "stream",
     "text": [
      "  WARNING: Failed to remove contents in a temporary directory 'C:\\Users\\Admin\\miniconda3\\envs\\qiskit\\Lib\\site-packages\\~ustworkx'.\n",
      "  You can safely remove it manually.\n",
      "  WARNING: Failed to remove contents in a temporary directory 'C:\\Users\\Admin\\miniconda3\\envs\\qiskit\\Lib\\site-packages\\~~skit'.\n",
      "  You can safely remove it manually.\n"
     ]
    }
   ],
   "source": [
    "pip install --upgrade qiskit"
   ]
  },
  {
   "cell_type": "markdown",
   "id": "08ebbdbc-018a-48d5-b099-e28e966c0f84",
   "metadata": {},
   "source": [
    "# Classe Sampler e Estimator"
   ]
  },
  {
   "cell_type": "code",
   "execution_count": 51,
   "id": "e2b5c491-3887-40aa-899f-23bcdb665358",
   "metadata": {},
   "outputs": [],
   "source": [
    "from qiskit import QuantumCircuit, transpile\n",
    "from qiskit_aer import AerSimulator\n",
    "from qiskit.visualization import plot_histogram, plot_bloch_multivector\n",
    "import qiskit.quantum_info as qi\n",
    "from qiskit.quantum_info import Operator, Pauli\n",
    "from qiskit.primitives import Sampler, Estimator\n",
    "import numpy as np\n",
    "from qiskit.circuit.library import RXGate"
   ]
  },
  {
   "cell_type": "markdown",
   "id": "fada2663-9457-42f0-9f22-c2fe6639da5e",
   "metadata": {},
   "source": [
    "### Passo 1 - Criar o Circuito Quântico de 1 qubit:"
   ]
  },
  {
   "cell_type": "code",
   "execution_count": 52,
   "id": "aa4ae7fa-612f-4332-9c03-ed4ccd1d2839",
   "metadata": {},
   "outputs": [
    {
     "ename": "TypeError",
     "evalue": "Sampler.__init__() got an unexpected keyword argument 'backend'",
     "output_type": "error",
     "traceback": [
      "\u001b[1;31m---------------------------------------------------------------------------\u001b[0m",
      "\u001b[1;31mTypeError\u001b[0m                                 Traceback (most recent call last)",
      "Cell \u001b[1;32mIn[52], line 10\u001b[0m\n\u001b[0;32m      7\u001b[0m simulator \u001b[38;5;241m=\u001b[39m AerSimulator()\n\u001b[0;32m      9\u001b[0m \u001b[38;5;66;03m# Criando o sampler\u001b[39;00m\n\u001b[1;32m---> 10\u001b[0m sampler \u001b[38;5;241m=\u001b[39m \u001b[43mSampler\u001b[49m\u001b[43m(\u001b[49m\u001b[43mbackend\u001b[49m\u001b[38;5;241;43m=\u001b[39;49m\u001b[43msimulator\u001b[49m\u001b[43m)\u001b[49m\n\u001b[0;32m     12\u001b[0m \u001b[38;5;66;03m# Função para calcular valor esperado de uma base específica\u001b[39;00m\n\u001b[0;32m     13\u001b[0m \u001b[38;5;28;01mdef\u001b[39;00m \u001b[38;5;21mcalcular_valor_esperado\u001b[39m(circuito, sampler, base\u001b[38;5;241m=\u001b[39m\u001b[38;5;28;01mNone\u001b[39;00m):\n",
      "\u001b[1;31mTypeError\u001b[0m: Sampler.__init__() got an unexpected keyword argument 'backend'"
     ]
    }
   ],
   "source": [
    "# Criando o circuito quântico para preparar o estado conforme descrito\n",
    "qc = QuantumCircuit(1)\n",
    "qc.rx(np.pi / 3, 0)\n",
    "qc.rz(np.pi / 4, 0)\n",
    "\n",
    "# Criando o simulador\n",
    "simulator = AerSimulator()\n",
    "\n",
    "# Criando o sampler\n",
    "sampler = Sampler(backend=simulator)\n",
    "\n",
    "# Função para calcular valor esperado de uma base específica\n",
    "def calcular_valor_esperado(circuito, sampler, base=None):\n",
    "    if base == 'X':\n",
    "        circuito.h(0)  # Aplica a porta Hadamard para medir na base X\n",
    "    elif base == 'Y':\n",
    "        circuito.rx(-np.pi / 2, 0)  # Aplica a rotação RX para medir na base Y\n",
    "    \n",
    "    circuito.measure_all()\n",
    "    \n",
    "    transpiled_circuit = transpile(circuito, simulator)\n",
    "    \n",
    "    # Executando o circuito no sampler\n",
    "    result = sampler.run(transpiled_circuit, shots=10000).result()\n",
    "    counts = result.get_counts()\n",
    "\n",
    "    p_0 = counts.get('0', 0) / 10000\n",
    "    p_1 = counts.get('1', 0) / 10000\n",
    "    valor_esperado = p_0 - p_1\n",
    "    \n",
    "    return valor_esperado"
   ]
  },
  {
   "cell_type": "markdown",
   "id": "22137dbb-df30-4fd4-8931-4994ae03c2bb",
   "metadata": {},
   "source": [
    "### Passo 2 - Calcular o Valor Esperado de Z usando o Sampler:"
   ]
  },
  {
   "cell_type": "code",
   "execution_count": 46,
   "id": "03f2acf1-e4b5-4f84-b67f-397e112ef9b0",
   "metadata": {},
   "outputs": [
    {
     "ename": "TypeError",
     "evalue": "Sampler.__init__() takes 1 positional argument but 2 were given",
     "output_type": "error",
     "traceback": [
      "\u001b[1;31m---------------------------------------------------------------------------\u001b[0m",
      "\u001b[1;31mTypeError\u001b[0m                                 Traceback (most recent call last)",
      "Cell \u001b[1;32mIn[46], line 5\u001b[0m\n\u001b[0;32m      1\u001b[0m \u001b[38;5;66;03m#Quando base=None é passado para a função calcular_valor_esperado,\u001b[39;00m\n\u001b[0;32m      2\u001b[0m \u001b[38;5;66;03m#o circuito é medido na base Z diretamente.\u001b[39;00m\n\u001b[0;32m      3\u001b[0m \n\u001b[0;32m      4\u001b[0m \u001b[38;5;66;03m# Executando o circuito e calculando o valor esperado para a base Z\u001b[39;00m\n\u001b[1;32m----> 5\u001b[0m valor_esperado_z \u001b[38;5;241m=\u001b[39m \u001b[43mcalcular_valor_esperado\u001b[49m\u001b[43m(\u001b[49m\u001b[43mqc\u001b[49m\u001b[38;5;241;43m.\u001b[39;49m\u001b[43mcopy\u001b[49m\u001b[43m(\u001b[49m\u001b[43m)\u001b[49m\u001b[43m,\u001b[49m\u001b[43m \u001b[49m\u001b[43msimulator\u001b[49m\u001b[43m,\u001b[49m\u001b[43m \u001b[49m\u001b[43mbase\u001b[49m\u001b[38;5;241;43m=\u001b[39;49m\u001b[38;5;28;43;01mNone\u001b[39;49;00m\u001b[43m)\u001b[49m\n\u001b[0;32m      7\u001b[0m \u001b[38;5;66;03m# Exibindo o resultado para a base Z\u001b[39;00m\n\u001b[0;32m      8\u001b[0m \u001b[38;5;28mprint\u001b[39m(\u001b[38;5;124mf\u001b[39m\u001b[38;5;124m\"\u001b[39m\u001b[38;5;124mValor esperado para a base Z: \u001b[39m\u001b[38;5;132;01m{\u001b[39;00mvalor_esperado_z\u001b[38;5;132;01m}\u001b[39;00m\u001b[38;5;124m\"\u001b[39m)\n",
      "Cell \u001b[1;32mIn[43], line 21\u001b[0m, in \u001b[0;36mcalcular_valor_esperado\u001b[1;34m(circuito, simulator, base)\u001b[0m\n\u001b[0;32m     18\u001b[0m transpiled_circuit \u001b[38;5;241m=\u001b[39m transpile(circuito, simulator)\n\u001b[0;32m     20\u001b[0m \u001b[38;5;66;03m# Utilizando o sampler para rodar o circuito\u001b[39;00m\n\u001b[1;32m---> 21\u001b[0m sampler \u001b[38;5;241m=\u001b[39m \u001b[43mSampler\u001b[49m\u001b[43m(\u001b[49m\u001b[43msimulator\u001b[49m\u001b[43m)\u001b[49m\n\u001b[0;32m     22\u001b[0m result \u001b[38;5;241m=\u001b[39m sampler\u001b[38;5;241m.\u001b[39mrun(transpiled_circuit, shots\u001b[38;5;241m=\u001b[39m\u001b[38;5;241m10000\u001b[39m)\u001b[38;5;241m.\u001b[39mresult()\n\u001b[0;32m     23\u001b[0m counts \u001b[38;5;241m=\u001b[39m result\u001b[38;5;241m.\u001b[39mget_counts()\n",
      "\u001b[1;31mTypeError\u001b[0m: Sampler.__init__() takes 1 positional argument but 2 were given"
     ]
    }
   ],
   "source": [
    "#Quando base=None é passado para a função calcular_valor_esperado,\n",
    "#o circuito é medido na base Z diretamente.\n",
    "\n",
    "# Executando o circuito e calculando o valor esperado para a base Z\n",
    "valor_esperado_z = calcular_valor_esperado(qc.copy(), simulator, base=None)\n",
    "\n",
    "# Exibindo o resultado para a base Z\n",
    "print(f\"Valor esperado para a base Z: {valor_esperado_z}\")"
   ]
  },
  {
   "cell_type": "markdown",
   "id": "cb6461b7-0b0d-4a3e-9519-d33474a9e136",
   "metadata": {},
   "source": [
    "### Passo 3 - Calcular o Valor Esperado de X usando o Sampler:"
   ]
  },
  {
   "cell_type": "code",
   "execution_count": 35,
   "id": "113963ff-b2d3-4488-85cb-56e7f8fbe7a7",
   "metadata": {},
   "outputs": [
    {
     "name": "stdout",
     "output_type": "stream",
     "text": [
      "Valor esperado para a base X: 0.6048\n"
     ]
    }
   ],
   "source": [
    "# Executando o circuito e calculando o valor esperado para a base X\n",
    "valor_esperado_x = calcular_valor_esperado(qc.copy(), simulator, base='X')\n",
    "\n",
    "# Exibindo o resultado para a base X\n",
    "print(f\"Valor esperado para a base X: {valor_esperado_x}\")"
   ]
  },
  {
   "cell_type": "markdown",
   "id": "d16978d0-634d-4e74-8d7a-c7ef9785b271",
   "metadata": {},
   "source": [
    "### Passo 4 - Calcular o Valor Esperado de Y usando o Sampler:"
   ]
  },
  {
   "cell_type": "code",
   "execution_count": 36,
   "id": "974cb77f-0b35-438b-b70e-ec267f618aeb",
   "metadata": {},
   "outputs": [
    {
     "name": "stdout",
     "output_type": "stream",
     "text": [
      "Valor esperado para a base Y: 0.6142000000000001\n"
     ]
    }
   ],
   "source": [
    "# Executando o circuito e calculando o valor esperado para a base Y\n",
    "valor_esperado_y = calcular_valor_esperado(qc.copy(), simulator, base='Y')\n",
    "\n",
    "# Exibindo o resultado para a base Y\n",
    "print(f\"Valor esperado para a base Y: {valor_esperado_y}\")"
   ]
  },
  {
   "cell_type": "markdown",
   "id": "970565aa-dfbd-4c79-8376-311a7fea3c00",
   "metadata": {},
   "source": [
    "### Passo 5 - Validar os Resultados usando o Estimator:"
   ]
  },
  {
   "cell_type": "code",
   "execution_count": 37,
   "id": "581b1fa6-8fdc-43ef-a831-e3851177dc07",
   "metadata": {},
   "outputs": [
    {
     "name": "stdout",
     "output_type": "stream",
     "text": [
      "Resultados usando o Sampler:\n",
      "Valor esperado de Z: 0.5022\n",
      "Valor esperado de X: 0.6048\n",
      "Valor esperado de Y: 0.6142000000000001\n",
      "\n",
      "Resultados usando o Estimator:\n",
      "Valor esperado de Z: 0.5\n",
      "Valor esperado de X: 0.6123724356957945\n",
      "Valor esperado de Y: -0.6123724356957945\n"
     ]
    }
   ],
   "source": [
    "# Utilizando o Estimator para comparar os resultados\n",
    "estimator = Estimator()\n",
    "\n",
    "# Observáveis convertidos para Pauli\n",
    "observables = [Pauli('Z'), Pauli('X'), Pauli('Y')]\n",
    "jobs = [estimator.run(qc, obs) for obs in observables]\n",
    "results = [job.result().values[0] for job in jobs]\n",
    "\n",
    "# Resultados com o Sampler e o Estimator\n",
    "print(\"Resultados usando o Sampler:\")\n",
    "print(f\"Valor esperado de Z: {valor_esperado_z}\")\n",
    "print(f\"Valor esperado de X: {valor_esperado_x}\")\n",
    "print(f\"Valor esperado de Y: {valor_esperado_y}\")\n",
    "\n",
    "print(\"\\nResultados usando o Estimator:\")\n",
    "print(f\"Valor esperado de Z: {results[0]}\")\n",
    "print(f\"Valor esperado de X: {results[1]}\")\n",
    "print(f\"Valor esperado de Y: {results[2]}\")\n"
   ]
  },
  {
   "cell_type": "code",
   "execution_count": null,
   "id": "681554a8-daa7-466c-bcda-d06400c3e4f7",
   "metadata": {},
   "outputs": [],
   "source": []
  }
 ],
 "metadata": {
  "kernelspec": {
   "display_name": "Python 3 (ipykernel)",
   "language": "python",
   "name": "python3"
  },
  "language_info": {
   "codemirror_mode": {
    "name": "ipython",
    "version": 3
   },
   "file_extension": ".py",
   "mimetype": "text/x-python",
   "name": "python",
   "nbconvert_exporter": "python",
   "pygments_lexer": "ipython3",
   "version": "3.12.3"
  }
 },
 "nbformat": 4,
 "nbformat_minor": 5
}
