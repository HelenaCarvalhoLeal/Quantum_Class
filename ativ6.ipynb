{
 "cells": [
  {
   "cell_type": "code",
   "execution_count": 1,
   "id": "e2b5c491-3887-40aa-899f-23bcdb665358",
   "metadata": {},
   "outputs": [],
   "source": [
    "from qiskit import QuantumCircuit\n",
    "from qiskit.visualization import visualize_transition\n",
    "from qiskit.visualization import plot_bloch_multivector\n",
    "import numpy as np"
   ]
  },
  {
   "cell_type": "markdown",
   "id": "ddfe6837-5a5c-4d90-896e-8c2d2b4f6692",
   "metadata": {},
   "source": [
    "# Classe Sampler e Estimator"
   ]
  },
  {
   "cell_type": "markdown",
   "id": "c05548d3-b480-4b85-977d-b9f3767fb548",
   "metadata": {},
   "source": [
    "Calcular o valor esperado das observ ́aveis X, Y e Z de\n",
    "um circuito de 1 qubit usando o Sampler e validar os resultados utilizando o\n",
    "Estimator do Qiskit."
   ]
  },
  {
   "cell_type": "markdown",
   "id": "fada2663-9457-42f0-9f22-c2fe6639da5e",
   "metadata": {},
   "source": [
    "### Passo 1 - Criar o Circuito Quântico:"
   ]
  },
  {
   "cell_type": "markdown",
   "id": "22137dbb-df30-4fd4-8931-4994ae03c2bb",
   "metadata": {},
   "source": [
    "### Passo 2 - Calcular o Valor Esperado de Z usando o Sampler:"
   ]
  },
  {
   "cell_type": "markdown",
   "id": "cb6461b7-0b0d-4a3e-9519-d33474a9e136",
   "metadata": {},
   "source": [
    "### Passo 3 - Calcular o Valor Esperado de X usando o Sampler:"
   ]
  },
  {
   "cell_type": "markdown",
   "id": "d16978d0-634d-4e74-8d7a-c7ef9785b271",
   "metadata": {},
   "source": [
    "### Passo 4 - Calcular o Valor Esperado de Y usando o Sampler:"
   ]
  },
  {
   "cell_type": "markdown",
   "id": "970565aa-dfbd-4c79-8376-311a7fea3c00",
   "metadata": {},
   "source": [
    "### Passo 5 - Validar os Resultados usando o Estimator:"
   ]
  },
  {
   "cell_type": "markdown",
   "id": "02444bfc-bede-402a-b4d4-826e9e9cbb80",
   "metadata": {},
   "source": [
    "## FIM"
   ]
  }
 ],
 "metadata": {
  "kernelspec": {
   "display_name": "Python 3 (ipykernel)",
   "language": "python",
   "name": "python3"
  },
  "language_info": {
   "codemirror_mode": {
    "name": "ipython",
    "version": 3
   },
   "file_extension": ".py",
   "mimetype": "text/x-python",
   "name": "python",
   "nbconvert_exporter": "python",
   "pygments_lexer": "ipython3",
   "version": "3.12.3"
  }
 },
 "nbformat": 4,
 "nbformat_minor": 5
}
