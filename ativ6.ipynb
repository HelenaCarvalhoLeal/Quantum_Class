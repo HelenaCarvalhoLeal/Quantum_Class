{
 "cells": [
  {
   "cell_type": "markdown",
   "id": "ddfe6837-5a5c-4d90-896e-8c2d2b4f6692",
   "metadata": {},
   "source": [
    "# Classe Sampler e Estimator"
   ]
  },
  {
   "cell_type": "code",
   "execution_count": 1,
   "id": "e2b5c491-3887-40aa-899f-23bcdb665358",
   "metadata": {},
   "outputs": [],
   "source": [
    "from qiskit import QuantumCircuit, transpile\n",
    "from qiskit_aer import AerSimulator\n",
    "from qiskit.visualization import plot_histogram, plot_bloch_multivector\n",
    "import qiskit.quantum_info as qi\n",
    "from qiskit.quantum_info import Operator, Pauli\n",
    "from qiskit.primitives import Sampler, Estimator\n",
    "import numpy as np"
   ]
  },
  {
   "cell_type": "markdown",
   "id": "fada2663-9457-42f0-9f22-c2fe6639da5e",
   "metadata": {},
   "source": [
    "### Passo 1 - Criar o Circuito Quântico de 1 qubit:"
   ]
  },
  {
   "cell_type": "markdown",
   "id": "22137dbb-df30-4fd4-8931-4994ae03c2bb",
   "metadata": {},
   "source": [
    "### Passo 2 - Calcular o Valor Esperado de Z usando o Sampler:"
   ]
  },
  {
   "cell_type": "markdown",
   "id": "cb6461b7-0b0d-4a3e-9519-d33474a9e136",
   "metadata": {},
   "source": [
    "### Passo 3 - Calcular o Valor Esperado de X usando o Sampler:"
   ]
  },
  {
   "cell_type": "markdown",
   "id": "d16978d0-634d-4e74-8d7a-c7ef9785b271",
   "metadata": {},
   "source": [
    "### Passo 4 - Calcular o Valor Esperado de Y usando o Sampler:"
   ]
  },
  {
   "cell_type": "markdown",
   "id": "970565aa-dfbd-4c79-8376-311a7fea3c00",
   "metadata": {},
   "source": [
    "### Passo 5 - Validar os Resultados usando o Estimator:"
   ]
  },
  {
   "cell_type": "markdown",
   "id": "62edf05b-8f7b-484b-b5a2-31e87ec59c26",
   "metadata": {},
   "source": [
    "### Passo 5 - Validar os Resultados usando o Estimator:"
   ]
  },
  {
   "cell_type": "markdown",
   "id": "02444bfc-bede-402a-b4d4-826e9e9cbb80",
   "metadata": {},
   "source": [
    "## FIM"
   ]
  },
  {
   "cell_type": "code",
   "execution_count": 20,
   "id": "581b1fa6-8fdc-43ef-a831-e3851177dc07",
   "metadata": {},
   "outputs": [
    {
     "name": "stdout",
     "output_type": "stream",
     "text": [
      "Resultados usando o Sampler:\n",
      "Valor esperado de Z: -0.31160000000000004\n",
      "Valor esperado de X: 0.6581999999999999\n",
      "Valor esperado de Y: 0.6714\n",
      "\n",
      "Resultados usando o Estimator:\n",
      "Valor esperado de Z: -0.3090169943749474\n",
      "Valor esperado de X: 0.6724985119639575\n",
      "Valor esperado de Y: -0.6724985119639575\n"
     ]
    }
   ],
   "source": [
    "# Criando o circuito quântico para preparar o estado conforme descrito\n",
    "qc = QuantumCircuit(1)\n",
    "qc.rx(3 * np.pi / 5, 0)\n",
    "qc.rz(np.pi / 4, 0)\n",
    "\n",
    "# Criando o simulador\n",
    "simulator = AerSimulator()\n",
    "\n",
    "# Função para calcular valor esperado de uma base específica\n",
    "def calcular_valor_esperado(circuito, simulator, base=None):\n",
    "    if base == 'X':\n",
    "        circuito.h(0)\n",
    "    elif base == 'Y':\n",
    "        circuito.rx(-np.pi / 2, 0)\n",
    "    \n",
    "    circuito.measure_all()\n",
    "\n",
    "    transpiled_circuit = transpile(circuito, simulator)\n",
    "    result = simulator.run(transpiled_circuit, shots=10000).result()\n",
    "    counts = result.get_counts()\n",
    "\n",
    "    p_0 = counts.get('0', 0) / 10000\n",
    "    p_1 = counts.get('1', 0) / 10000\n",
    "    valor_esperado = p_0 - p_1\n",
    "    \n",
    "    return valor_esperado\n",
    "\n",
    "# Calculando o valor esperado para Z\n",
    "qc_z = qc.copy()\n",
    "valor_esperado_z = calcular_valor_esperado(qc_z, simulator)\n",
    "\n",
    "# Calculando o valor esperado para X\n",
    "qc_x = qc.copy()\n",
    "valor_esperado_x = calcular_valor_esperado(qc_x, simulator, base='X')\n",
    "\n",
    "# Calculando o valor esperado para Y\n",
    "qc_y = qc.copy()\n",
    "valor_esperado_y = calcular_valor_esperado(qc_y, simulator, base='Y')\n",
    "\n",
    "# Utilizando o Estimator para comparar os resultados\n",
    "estimator = Estimator()\n",
    "\n",
    "# Observáveis convertidos para Pauli\n",
    "observables = [Pauli('Z'), Pauli('X'), Pauli('Y')]\n",
    "jobs = [estimator.run(qc, obs) for obs in observables]\n",
    "results = [job.result().values[0] for job in jobs]\n",
    "\n",
    "# Resultados com o Sampler e o Estimator\n",
    "print(\"Resultados usando o Sampler:\")\n",
    "print(f\"Valor esperado de Z: {valor_esperado_z}\")\n",
    "print(f\"Valor esperado de X: {valor_esperado_x}\")\n",
    "print(f\"Valor esperado de Y: {valor_esperado_y}\")\n",
    "\n",
    "print(\"\\nResultados usando o Estimator:\")\n",
    "print(f\"Valor esperado de Z: {results[0]}\")\n",
    "print(f\"Valor esperado de X: {results[1]}\")\n",
    "print(f\"Valor esperado de Y: {results[2]}\")\n"
   ]
  }
 ],
 "metadata": {
  "kernelspec": {
   "display_name": "Python 3 (ipykernel)",
   "language": "python",
   "name": "python3"
  },
  "language_info": {
   "codemirror_mode": {
    "name": "ipython",
    "version": 3
   },
   "file_extension": ".py",
   "mimetype": "text/x-python",
   "name": "python",
   "nbconvert_exporter": "python",
   "pygments_lexer": "ipython3",
   "version": "3.12.3"
  }
 },
 "nbformat": 4,
 "nbformat_minor": 5
}
