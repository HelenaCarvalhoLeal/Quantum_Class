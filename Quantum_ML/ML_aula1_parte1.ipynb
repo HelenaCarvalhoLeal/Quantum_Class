{
 "cells": [
  {
   "cell_type": "code",
   "execution_count": 1,
   "id": "4f85c774-6574-4ead-869c-9268363ffe11",
   "metadata": {},
   "outputs": [],
   "source": [
    "from qiskit_aer import AerSimulator"
   ]
  },
  {
   "cell_type": "code",
   "execution_count": 2,
   "id": "089a92da-ba55-433a-9f90-1f2ed3a57e5c",
   "metadata": {},
   "outputs": [],
   "source": [
    "#1. definindo o backend\n",
    "backend_aer = AerSimulator()"
   ]
  },
  {
   "cell_type": "code",
   "execution_count": 3,
   "id": "3e627e74-991f-4255-b8d1-db564a607076",
   "metadata": {},
   "outputs": [
    {
     "data": {
      "text/plain": [
       "[Instruction(name='cx', num_qubits=2, num_clbits=0, params=[]),\n",
       " Instruction(name='ryy', num_qubits=2, num_clbits=0, params=[Parameter(ϴ)]),\n",
       " Instruction(name='cswap', num_qubits=3, num_clbits=0, params=[]),\n",
       " Instruction(name='x', num_qubits=1, num_clbits=0, params=[]),\n",
       " qiskit.circuit.library.generalized_gates.unitary.UnitaryGate,\n",
       " Instruction(name='h', num_qubits=1, num_clbits=0, params=[]),\n",
       " qiskit_aer.library.save_instructions.save_expectation_value.SaveExpectationValue,\n",
       " qiskit_aer.noise.noise_model.QuantumErrorLocation,\n",
       " qiskit_aer.backends.name_mapping.MCRGate,\n",
       " Instruction(name='sxdg', num_qubits=1, num_clbits=0, params=[]),\n",
       " Instruction(name='cz', num_qubits=2, num_clbits=0, params=[]),\n",
       " qiskit_aer.library.set_instructions.set_superop.SetSuperOp,\n",
       " Instruction(name='reset', num_qubits=1, num_clbits=0, params=[]),\n",
       " qiskit_aer.noise.errors.readout_error.ReadoutError,\n",
       " Instruction(name='t', num_qubits=1, num_clbits=0, params=[]),\n",
       " Instruction(name='sx', num_qubits=1, num_clbits=0, params=[]),\n",
       " qiskit_aer.library.save_instructions.save_amplitudes.SaveAmplitudesSquared,\n",
       " Instruction(name='cu2', num_qubits=2, num_clbits=0, params=[Parameter(phi), Parameter(lam)]),\n",
       " qiskit_aer.library.save_instructions.save_probabilities.SaveProbabilitiesDict,\n",
       " qiskit.circuit.controlflow.break_loop.BreakLoopOp,\n",
       " qiskit.circuit.library.standard_gates.p.MCPhaseGate,\n",
       " Instruction(name='u2', num_qubits=1, num_clbits=0, params=[Parameter(φ), Parameter(λ)]),\n",
       " qiskit_aer.library.set_instructions.set_stabilizer.SetStabilizer,\n",
       " Instruction(name='y', num_qubits=1, num_clbits=0, params=[]),\n",
       " Instruction(name='ccx', num_qubits=3, num_clbits=0, params=[]),\n",
       " qiskit.quantum_info.operators.channel.kraus.Kraus,\n",
       " Instruction(name='rzx', num_qubits=2, num_clbits=0, params=[Parameter(ϴ)]),\n",
       " qiskit_aer.backends.name_mapping.MCSXGate,\n",
       " qiskit.circuit.library.standard_gates.x.MCXGate,\n",
       " qiskit_aer.library.set_instructions.set_unitary.SetUnitary,\n",
       " qiskit_aer.backends.name_mapping.MCYGate,\n",
       " Instruction(name='rzz', num_qubits=2, num_clbits=0, params=[Parameter(ϴ)]),\n",
       " Instruction(name='cp', num_qubits=2, num_clbits=0, params=[Parameter(ϴ)]),\n",
       " qiskit_aer.backends.name_mapping.MCRZGate,\n",
       " qiskit_aer.library.save_instructions.save_matrix_product_state.SaveMatrixProductState,\n",
       " qiskit.circuit.controlflow.switch_case.SwitchCaseOp,\n",
       " qiskit_aer.backends.name_mapping.MCU3Gate,\n",
       " Instruction(name='p', num_qubits=1, num_clbits=0, params=[Parameter(ϴ)]),\n",
       " Instruction(name='cu1', num_qubits=2, num_clbits=0, params=[Parameter(λ)]),\n",
       " qiskit_aer.library.save_instructions.save_superop.SaveSuperOp,\n",
       " qiskit_aer.library.save_instructions.save_unitary.SaveUnitary,\n",
       " qiskit_aer.backends.name_mapping.MCU2Gate,\n",
       " qiskit_aer.backends.name_mapping.MCUGate,\n",
       " Instruction(name='s', num_qubits=1, num_clbits=0, params=[]),\n",
       " Instruction(name='u1', num_qubits=1, num_clbits=0, params=[Parameter(λ)]),\n",
       " Instruction(name='rz', num_qubits=1, num_clbits=0, params=[Parameter(λ)]),\n",
       " qiskit.circuit.controlflow.for_loop.ForLoopOp,\n",
       " qiskit.circuit.library.generalized_gates.pauli.PauliGate,\n",
       " Instruction(name='rx', num_qubits=1, num_clbits=0, params=[Parameter(ϴ)]),\n",
       " qiskit_aer.library.save_instructions.save_probabilities.SaveProbabilities,\n",
       " Instruction(name='ecr', num_qubits=2, num_clbits=0, params=[]),\n",
       " qiskit_aer.library.save_instructions.save_statevector.SaveStatevectorDict,\n",
       " qiskit_aer.library.save_instructions.save_clifford.SaveClifford,\n",
       " Instruction(name='cy', num_qubits=2, num_clbits=0, params=[]),\n",
       " Instruction(name='u', num_qubits=1, num_clbits=0, params=[Parameter(ϴ), Parameter(φ), Parameter(λ)]),\n",
       " qiskit.quantum_info.operators.channel.superop.SuperOp,\n",
       " qiskit.circuit.library.standard_gates.x.MCXGrayCode,\n",
       " qiskit_aer.library.set_instructions.set_density_matrix.SetDensityMatrix,\n",
       " Instruction(name='ry', num_qubits=1, num_clbits=0, params=[Parameter(ϴ)]),\n",
       " qiskit_aer.backends.name_mapping.MCRYGate,\n",
       " Instruction(name='rxx', num_qubits=2, num_clbits=0, params=[Parameter(ϴ)]),\n",
       " Instruction(name='cu', num_qubits=2, num_clbits=0, params=[Parameter(ϴ), Parameter(φ), Parameter(λ), Parameter(γ)]),\n",
       " Instruction(name='tdg', num_qubits=1, num_clbits=0, params=[]),\n",
       " qiskit.circuit.library.standard_gates.u1.MCU1Gate,\n",
       " Instruction(name='ccz', num_qubits=3, num_clbits=0, params=[]),\n",
       " qiskit_aer.library.set_instructions.set_statevector.SetStatevector,\n",
       " Instruction(name='z', num_qubits=1, num_clbits=0, params=[]),\n",
       " qiskit_aer.library.save_instructions.save_density_matrix.SaveDensityMatrix,\n",
       " qiskit_aer.library.save_instructions.save_stabilizer.SaveStabilizer,\n",
       " qiskit_aer.library.save_instructions.save_state.SaveState,\n",
       " qiskit_aer.library.set_instructions.set_matrix_product_state.SetMatrixProductState,\n",
       " qiskit_aer.library.save_instructions.save_statevector.SaveStatevector,\n",
       " Delay(duration=t[unit=dt]),\n",
       " Instruction(name='r', num_qubits=1, num_clbits=0, params=[Parameter(ϴ), Parameter(φ)]),\n",
       " Instruction(name='u3', num_qubits=1, num_clbits=0, params=[Parameter(ϴ), Parameter(φ), Parameter(λ)]),\n",
       " Instruction(name='measure', num_qubits=1, num_clbits=1, params=[]),\n",
       " Instruction(name='csx', num_qubits=2, num_clbits=0, params=[]),\n",
       " qiskit_aer.backends.name_mapping.MCSwapGate,\n",
       " qiskit_aer.library.save_instructions.save_expectation_value.SaveExpectationValueVariance,\n",
       " Instruction(name='sdg', num_qubits=1, num_clbits=0, params=[]),\n",
       " qiskit.circuit.controlflow.if_else.IfElseOp,\n",
       " qiskit_aer.backends.name_mapping.MCZGate,\n",
       " Instruction(name='swap', num_qubits=2, num_clbits=0, params=[]),\n",
       " qiskit.circuit.library.generalized_gates.uc.UCGate,\n",
       " qiskit_aer.library.save_instructions.save_amplitudes.SaveAmplitudes,\n",
       " qiskit.circuit.library.generalized_gates.diagonal.DiagonalGate,\n",
       " qiskit.circuit.controlflow.while_loop.WhileLoopOp,\n",
       " qiskit.circuit.library.data_preparation.initializer.Initialize,\n",
       " Instruction(name='cu3', num_qubits=2, num_clbits=0, params=[Parameter(ϴ), Parameter(φ), Parameter(λ)]),\n",
       " qiskit.quantum_info.operators.channel.quantum_channel.QuantumChannel,\n",
       " Instruction(name='id', num_qubits=1, num_clbits=0, params=[]),\n",
       " qiskit.circuit.controlflow.continue_loop.ContinueLoopOp,\n",
       " qiskit.circuit.library.standard_gates.p.MCPhaseGate,\n",
       " qiskit_aer.backends.name_mapping.MCRXGate]"
      ]
     },
     "execution_count": 3,
     "metadata": {},
     "output_type": "execute_result"
    }
   ],
   "source": [
    "AerSimulator().operations"
   ]
  },
  {
   "cell_type": "code",
   "execution_count": 4,
   "id": "ebaf5237-9fb8-4aa0-a82a-8d9245ba9e94",
   "metadata": {},
   "outputs": [],
   "source": [
    "from qiskit import QuantumCircuit, transpile"
   ]
  },
  {
   "cell_type": "code",
   "execution_count": 5,
   "id": "e061340e-2d05-47a5-a2cf-9033a8bc460b",
   "metadata": {},
   "outputs": [],
   "source": [
    "# primitiva\n",
    "from qiskit_ibm_runtime import SamplerV2"
   ]
  },
  {
   "cell_type": "code",
   "execution_count": 6,
   "id": "5e18573b-7566-4213-a1d9-8fcda691e407",
   "metadata": {},
   "outputs": [
    {
     "data": {
      "image/png": "[encoded data removed]",
      "text/plain": [
       "<Figure size 580.387x284.278 with 1 Axes>"
      ]
     },
     "execution_count": 6,
     "metadata": {},
     "output_type": "execute_result"
    }
   ],
   "source": [
    "qc = QuantumCircuit(2)\n",
    "qc.h(0)\n",
    "qc.cx(0,1)\n",
    "#qc.measure(0,0)\n",
    "#qc.measure(1,1)\n",
    "qc.measure_all()\n",
    "qc.draw(\"mpl\")"
   ]
  },
  {
   "cell_type": "code",
   "execution_count": 7,
   "id": "69198c7a-4dd9-4355-9191-132174b359f3",
   "metadata": {},
   "outputs": [
    {
     "data": {
      "image/png": "[encoded data removed]",
      "text/plain": [
       "<Figure size 580.387x284.278 with 1 Axes>"
      ]
     },
     "execution_count": 7,
     "metadata": {},
     "output_type": "execute_result"
    }
   ],
   "source": [
    "#2. transpilar o circuito\n",
    "qct = transpile(qc,backend=backend_aer)\n",
    "qct.draw(\"mpl\")"
   ]
  },
  {
   "cell_type": "markdown",
   "id": "e7716f8a-7eb5-4956-8712-1c5ea1468889",
   "metadata": {},
   "source": [
    "Passos (SAMPLER)\n",
    "\n",
    "definir o backend\n",
    "\n",
    "transpilar o circuito\n",
    "\n",
    "instaciar o SamplerV2\n",
    "\n",
    "executar o circuito"
   ]
  },
  {
   "cell_type": "code",
   "execution_count": 9,
   "id": "76d7c2ef-fa90-4b71-87d4-6786cf61c8e3",
   "metadata": {},
   "outputs": [],
   "source": [
    "#3. instaciando o sampler\n",
    "sampler_aer = SamplerV2(backend=backend_aer)"
   ]
  },
  {
   "cell_type": "code",
   "execution_count": 10,
   "id": "f4acb5ad-101b-42b1-b35e-0cda397268fe",
   "metadata": {},
   "outputs": [
    {
     "data": {
      "text/plain": [
       "'1.2.0'"
      ]
     },
     "execution_count": 10,
     "metadata": {},
     "output_type": "execute_result"
    }
   ],
   "source": [
    "import qiskit\n",
    "qiskit.__version__"
   ]
  },
  {
   "cell_type": "code",
   "execution_count": 11,
   "id": "68370662-f162-4399-b5ae-b8c3ebb2ed42",
   "metadata": {},
   "outputs": [],
   "source": [
    "#4. executar o circuito\n",
    "job_aer = sampler_aer.run([(qct,None,1000)])"
   ]
  },
  {
   "cell_type": "code",
   "execution_count": 12,
   "id": "fe42b0ba-f628-4fa8-bcc1-3b57c65f8559",
   "metadata": {},
   "outputs": [],
   "source": [
    "result = job_aer.result()"
   ]
  },
  {
   "cell_type": "code",
   "execution_count": 30,
   "id": "103d6e83-8b0a-434e-b41c-406b8dc31a0e",
   "metadata": {},
   "outputs": [
    {
     "ename": "AttributeError",
     "evalue": "'DataBin' object has no attribute 'c'",
     "output_type": "error",
     "traceback": [
      "\u001b[1;31m---------------------------------------------------------------------------\u001b[0m",
      "\u001b[1;31mAttributeError\u001b[0m                            Traceback (most recent call last)",
      "Cell \u001b[1;32mIn[30], line 1\u001b[0m\n\u001b[1;32m----> 1\u001b[0m counts \u001b[38;5;241m=\u001b[39m \u001b[43mresult\u001b[49m\u001b[43m[\u001b[49m\u001b[38;5;241;43m0\u001b[39;49m\u001b[43m]\u001b[49m\u001b[38;5;241;43m.\u001b[39;49m\u001b[43mdata\u001b[49m\u001b[38;5;241;43m.\u001b[39;49m\u001b[43mc\u001b[49m\u001b[38;5;241m.\u001b[39mget_counts()\n",
      "\u001b[1;31mAttributeError\u001b[0m: 'DataBin' object has no attribute 'c'"
     ]
    }
   ],
   "source": [
    "counts = result[0].data.c.get_counts()"
   ]
  },
  {
   "cell_type": "code",
   "execution_count": 31,
   "id": "aa16d92a-897a-412b-9ddd-76ef2e3d33a8",
   "metadata": {},
   "outputs": [
    {
     "ename": "NameError",
     "evalue": "name 'counts' is not defined",
     "output_type": "error",
     "traceback": [
      "\u001b[1;31m---------------------------------------------------------------------------\u001b[0m",
      "\u001b[1;31mNameError\u001b[0m                                 Traceback (most recent call last)",
      "Cell \u001b[1;32mIn[31], line 1\u001b[0m\n\u001b[1;32m----> 1\u001b[0m \u001b[43mcounts\u001b[49m\n",
      "\u001b[1;31mNameError\u001b[0m: name 'counts' is not defined"
     ]
    }
   ],
   "source": [
    "counts"
   ]
  },
  {
   "cell_type": "code",
   "execution_count": 16,
   "id": "bbefd509-4fbf-48a5-a9ce-85c439cd7416",
   "metadata": {},
   "outputs": [],
   "source": [
    "from qiskit.visualization import plot_distribution"
   ]
  },
  {
   "cell_type": "code",
   "execution_count": 17,
   "id": "ae722f20-1478-4a1f-8e6f-1a940409f97c",
   "metadata": {},
   "outputs": [
    {
     "ename": "NameError",
     "evalue": "name 'counts' is not defined",
     "output_type": "error",
     "traceback": [
      "\u001b[1;31m---------------------------------------------------------------------------\u001b[0m",
      "\u001b[1;31mNameError\u001b[0m                                 Traceback (most recent call last)",
      "Cell \u001b[1;32mIn[17], line 1\u001b[0m\n\u001b[1;32m----> 1\u001b[0m plot_distribution([\u001b[43mcounts\u001b[49m],legend\u001b[38;5;241m=\u001b[39m[\u001b[38;5;124m'\u001b[39m\u001b[38;5;124mAerSimulator\u001b[39m\u001b[38;5;124m'\u001b[39m])\n",
      "\u001b[1;31mNameError\u001b[0m: name 'counts' is not defined"
     ]
    }
   ],
   "source": [
    "plot_distribution([counts],legend=['AerSimulator'])"
   ]
  },
  {
   "cell_type": "code",
   "execution_count": 18,
   "id": "716f4bbd-6f90-454d-8cb7-2484f784e016",
   "metadata": {},
   "outputs": [],
   "source": [
    "from qiskit.circuit import Parameter"
   ]
  },
  {
   "cell_type": "code",
   "execution_count": 19,
   "id": "cb55945a-6f9f-4d9d-b79b-b0de7813ccef",
   "metadata": {},
   "outputs": [],
   "source": [
    "th = Parameter('theta')\n",
    "ph = Parameter('phi')"
   ]
  },
  {
   "cell_type": "code",
   "execution_count": 20,
   "id": "5e469ebc-3b23-42fc-9fc9-6a2e3b12683b",
   "metadata": {},
   "outputs": [
    {
     "data": {
      "image/png": "[encoded data removed]",
      "text/plain": [
       "<Figure size 454.517x284.278 with 1 Axes>"
      ]
     },
     "execution_count": 20,
     "metadata": {},
     "output_type": "execute_result"
    }
   ],
   "source": [
    "from qiskit import QuantumRegister, ClassicalRegister\n",
    "\n",
    "qr = QuantumRegister(2, name='q')\n",
    "cr = ClassicalRegister(2, name='c')\n",
    "\n",
    "qc2 = QuantumCircuit(qr,cr)\n",
    "\n",
    "qc2.rx(th,1)\n",
    "qc2.crx(ph,1,0)\n",
    "qc2.measure(qr,cr)\n",
    "qc2.draw(\"mpl\")"
   ]
  },
  {
   "cell_type": "code",
   "execution_count": 21,
   "id": "5b4c70b3-a1b9-4b71-b161-8d9068790679",
   "metadata": {},
   "outputs": [],
   "source": [
    "import numpy as np\n",
    "angles = [  [np.pi/2, np.pi/2], [np.pi/3, np.pi], [np.pi/2, np.pi] ]"
   ]
  },
  {
   "cell_type": "code",
   "execution_count": 22,
   "id": "8c386490-be8a-4a5a-9a8f-451a470a215e",
   "metadata": {},
   "outputs": [
    {
     "data": {
      "text/plain": [
       "ParameterView([Parameter(phi), Parameter(theta)])"
      ]
     },
     "execution_count": 22,
     "metadata": {},
     "output_type": "execute_result"
    }
   ],
   "source": [
    "qc2.parameters"
   ]
  },
  {
   "cell_type": "code",
   "execution_count": 23,
   "id": "e79e060b-f979-46a4-a0ec-64e5af9f6188",
   "metadata": {},
   "outputs": [],
   "source": [
    "qc2t = transpile(qc2,backend=backend_aer)"
   ]
  },
  {
   "cell_type": "code",
   "execution_count": 24,
   "id": "4c040367-7a30-429e-b0ef-4a73f2a3b16e",
   "metadata": {},
   "outputs": [
    {
     "data": {
      "image/png": "[encoded data removed]",
      "text/plain": [
       "<Figure size 621.739x284.278 with 1 Axes>"
      ]
     },
     "execution_count": 24,
     "metadata": {},
     "output_type": "execute_result"
    }
   ],
   "source": [
    "qc2t.draw(\"mpl\")"
   ]
  },
  {
   "cell_type": "code",
   "execution_count": 25,
   "id": "4babcdf7-9ae1-401d-89ec-a27c91156811",
   "metadata": {},
   "outputs": [],
   "source": [
    "job2 = sampler_aer.run([(qc2t,angles,1000)])\n",
    "result2 = job2.result()\n",
    "counts2 = result2[0].data.c.get_counts(2)"
   ]
  },
  {
   "cell_type": "code",
   "execution_count": 26,
   "id": "218237ea-baa6-4e7b-919a-a6a9aed19bd8",
   "metadata": {},
   "outputs": [
    {
     "data": {
      "text/plain": [
       "{'11': 499, '10': 501}"
      ]
     },
     "execution_count": 26,
     "metadata": {},
     "output_type": "execute_result"
    }
   ],
   "source": [
    "counts2"
   ]
  },
  {
   "cell_type": "code",
   "execution_count": 27,
   "id": "7e1c70e2-1bc8-4bfa-b35d-46c8fa79740a",
   "metadata": {},
   "outputs": [],
   "source": [
    "jobdupla = sampler_aer.run([ (qct,None,1000), (qc2t,angles,2000)])"
   ]
  },
  {
   "cell_type": "code",
   "execution_count": 28,
   "id": "18f5a619-46aa-4470-9e53-7b58bdc2e699",
   "metadata": {},
   "outputs": [],
   "source": [
    "resultdupla = jobdupla.result()"
   ]
  },
  {
   "cell_type": "code",
   "execution_count": 29,
   "id": "45f201b2-fa71-4cf7-a9fa-0bc94cd7fa36",
   "metadata": {},
   "outputs": [
    {
     "data": {
      "text/plain": [
       "{'10': 1502, '11': 498}"
      ]
     },
     "execution_count": 29,
     "metadata": {},
     "output_type": "execute_result"
    }
   ],
   "source": [
    "resultdupla[1].data.c.get_counts(1)"
   ]
  }
 ],
 "metadata": {
  "kernelspec": {
   "display_name": "Python 3 (ipykernel)",
   "language": "python",
   "name": "python3"
  },
  "language_info": {
   "codemirror_mode": {
    "name": "ipython",
    "version": 3
   },
   "file_extension": ".py",
   "mimetype": "text/x-python",
   "name": "python",
   "nbconvert_exporter": "python",
   "pygments_lexer": "ipython3",
   "version": "3.12.3"
  }
 },
 "nbformat": 4,
 "nbformat_minor": 5
}
