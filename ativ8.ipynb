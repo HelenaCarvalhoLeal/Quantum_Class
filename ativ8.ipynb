{
 "cells": [
  {
   "cell_type": "markdown",
   "id": "32883357-44fc-4e2e-997f-5185b5e82541",
   "metadata": {},
   "source": [
    "a) Calcule a QFT do estado 1/√2(|000⟩ + |111⟩)."
   ]
  },
  {
   "cell_type": "code",
   "execution_count": 19,
   "id": "219151b2-a009-415b-8e0f-39160c002cc9",
   "metadata": {},
   "outputs": [
    {
     "name": "stdout",
     "output_type": "stream",
     "text": [
      "Vetor de estado após QFT: Statevector([ 5.00000000e-01-9.18485099e-17j,\n",
      "              4.26776695e-01-1.76776695e-01j,\n",
      "              2.50000000e-01-2.50000000e-01j,\n",
      "              7.32233047e-02-1.76776695e-01j,\n",
      "             -1.79202035e-17+9.18485099e-17j,\n",
      "              7.32233047e-02+1.76776695e-01j,\n",
      "              2.50000000e-01+2.50000000e-01j,\n",
      "              4.26776695e-01+1.76776695e-01j],\n",
      "            dims=(2, 2, 2))\n"
     ]
    }
   ],
   "source": [
    "from qiskit import QuantumCircuit, transpile\n",
    "from qiskit.circuit.library import QFT\n",
    "from qiskit.quantum_info import partial_trace, DensityMatrix, purity\n",
    "from qiskit_aer import AerSimulator\n",
    "from qiskit_aer.library import SaveStatevector\n",
    "\n",
    "# a) Calcule a QFT do estado 1/√2(|000⟩ + |111⟩).\n",
    "\n",
    "# Criando o circuito quântico com 3 qubits\n",
    "qc = QuantumCircuit(3)\n",
    "\n",
    "# Preparando o estado inicial 1/√2(|000⟩ + |111⟩)\n",
    "qc.h(0)\n",
    "qc.cx(0, 1)\n",
    "qc.cx(0, 2)\n",
    "\n",
    "# Aplicando a QFT ao estado preparado\n",
    "qc.append(QFT(3), range(3))\n",
    "\n",
    "# Adicionando o comando para salvar o vetor de estado\n",
    "qc.save_statevector()\n",
    "\n",
    "# Usando AerSimulator configurado para obter o vetor de estado\n",
    "simulator = AerSimulator()\n",
    "qc = transpile(qc, simulator)\n",
    "result = simulator.run(qc).result()\n",
    "\n",
    "# Obter o vetor de estado final\n",
    "state_qft = result.get_statevector(qc)\n",
    "print(\"Vetor de estado após QFT:\", state_qft)"
   ]
  },
  {
   "cell_type": "markdown",
   "id": "67a73d69-6551-4e82-a748-f634d7f5646d",
   "metadata": {},
   "source": [
    "b) Ap os obter o estado resultante da QFT, calcule o traço parcial para determinar o operador densidade de cada qubit separadamente."
   ]
  },
  {
   "cell_type": "code",
   "execution_count": 23,
   "id": "6bbfb83c-3b2a-418d-b2a7-30429929a35f",
   "metadata": {},
   "outputs": [
    {
     "name": "stdout",
     "output_type": "stream",
     "text": [
      "Operador densidade do qubit 0:\n",
      " DensityMatrix([[0.5      -1.44546702e-32j, 0.4267767+1.76776695e-01j],\n",
      "               [0.4267767-1.76776695e-01j, 0.5      -5.08088743e-18j]],\n",
      "              dims=(2,))\n",
      "Operador densidade do qubit 1:\n",
      " DensityMatrix([[0.5 -6.10263847e-18j, 0.25+2.50000000e-01j],\n",
      "               [0.25-2.50000000e-01j, 0.5 +1.02175104e-18j]],\n",
      "              dims=(2,))\n",
      "Operador densidade do qubit 2:\n",
      " DensityMatrix([[ 6.25000000e-01-6.69232790e-18j,\n",
      "                -1.52981591e-17-3.01776695e-01j],\n",
      "               [-1.52981591e-17+3.01776695e-01j,\n",
      "                 3.75000000e-01+1.61144047e-18j]],\n",
      "              dims=(2,))\n"
     ]
    }
   ],
   "source": [
    "# Converter o vetor de estado em uma matriz densidade\n",
    "density_matrix = DensityMatrix(state_qft)\n",
    "\n",
    "# Calcular o traço parcial para cada qubit\n",
    "rho_0 = partial_trace(density_matrix, [1, 2])  # Operador densidade do qubit 0\n",
    "rho_1 = partial_trace(density_matrix, [0, 2])  # Operador densidade do qubit 1\n",
    "rho_2 = partial_trace(density_matrix, [0, 1])  # Operador densidade do qubit 2\n",
    "\n",
    "print(\"Operador densidade do qubit 0:\\n\", rho_0)\n",
    "print(\"Operador densidade do qubit 1:\\n\", rho_1)\n",
    "print(\"Operador densidade do qubit 2:\\n\", rho_2)"
   ]
  },
  {
   "cell_type": "markdown",
   "id": "3bb2c49f-143f-4ce0-8deb-eefd5a8c5b04",
   "metadata": {},
   "source": [
    "c) Calcule a pureza de cada qubit individualmente utilizando os operadores densidade obtidos."
   ]
  },
  {
   "cell_type": "code",
   "execution_count": 24,
   "id": "341aa84a-0f4b-482f-8b99-7941be586759",
   "metadata": {},
   "outputs": [
    {
     "name": "stdout",
     "output_type": "stream",
     "text": [
      "Pureza do qubit 0: (0.9267766952966379+0j)\n",
      "Pureza do qubit 1: (0.7500000000000007+0j)\n",
      "Pureza do qubit 2: (0.7133883476483192-7.156829520050088e-18j)\n"
     ]
    }
   ],
   "source": [
    "pureza_0 = purity(rho_0)\n",
    "pureza_1 = purity(rho_1)\n",
    "pureza_2 = purity(rho_2)\n",
    "\n",
    "print(\"Pureza do qubit 0:\", pureza_0)\n",
    "print(\"Pureza do qubit 1:\", pureza_1)\n",
    "print(\"Pureza do qubit 2:\", pureza_2)"
   ]
  },
  {
   "cell_type": "markdown",
   "id": "004f5b76-bc89-42be-9a8b-ff85332196fb",
   "metadata": {},
   "source": [
    "d) Determine o grau de emaranhamento do estado na base de Fourrier.\n",
    "Sabendo que que a pureza pode ser usada como medida de emaranhamento \n",
    "(se a pureza dos subsistemas for menor que 1, o estado é emaranhado), explique os resultados obtidos e discuta se o estado QFT[1/√2(|000⟩ + |111⟩)] ́e emaranhado."
   ]
  },
  {
   "cell_type": "code",
   "execution_count": 26,
   "id": "e2807cc3-e978-4239-931e-7834a3ccde42",
   "metadata": {},
   "outputs": [
    {
     "name": "stdout",
     "output_type": "stream",
     "text": [
      "O estado está emaranhado.\n"
     ]
    }
   ],
   "source": [
    "# Avaliando se os qubits estão emaranhados com base na pureza\n",
    "# Se a pureza de um qubit é menor que 1, o qubit está emaranhado\n",
    "\n",
    "if pureza_0 < 1 or pureza_1 < 1 or pureza_2 < 1:\n",
    "    print(\"O estado está emaranhado.\")\n",
    "else:\n",
    "    print(\"O estado não está emaranhado.\")"
   ]
  },
  {
   "cell_type": "markdown",
   "id": "7f17f3e7-c927-4fb0-aa5a-605ce483621c",
   "metadata": {},
   "source": [
    "2) Encontre o estado |b⟩ tal que QFT†|b⟩ = |011⟩. Use o Qiskit para verificar seus resultados."
   ]
  },
  {
   "cell_type": "code",
   "execution_count": 41,
   "id": "70eabb61-bcc5-4323-ab99-b7f6e991cf92",
   "metadata": {},
   "outputs": [
    {
     "name": "stdout",
     "output_type": "stream",
     "text": [
      "O estado |b⟩ é:\n",
      "Statevector([ 3.53553391e-01-8.65956056e-17j,\n",
      "             -2.50000000e-01-2.50000000e-01j,\n",
      "              6.49467042e-17+3.53553391e-01j,\n",
      "              2.50000000e-01-2.50000000e-01j,\n",
      "             -3.53553391e-01+8.65956056e-17j,\n",
      "              2.50000000e-01+2.50000000e-01j,\n",
      "             -6.49467042e-17-3.53553391e-01j,\n",
      "             -2.50000000e-01+2.50000000e-01j],\n",
      "            dims=(2, 2, 2))\n"
     ]
    }
   ],
   "source": [
    "from qiskit import QuantumCircuit, transpile\n",
    "from qiskit.circuit.library import QFT\n",
    "from qiskit.quantum_info import Statevector\n",
    "from qiskit_aer import AerSimulator\n",
    "from qiskit_aer.library import SaveStatevector\n",
    "\n",
    "# Estado alvo |011⟩\n",
    "target_state = '011'\n",
    "\n",
    "# Número de qubits (igual ao comprimento do estado alvo)\n",
    "n_qubits = len(target_state)\n",
    "\n",
    "# Criando um circuito quântico com n_qubits\n",
    "qc = QuantumCircuit(n_qubits)\n",
    "\n",
    "# Preparando o estado |011⟩\n",
    "for i, bit in enumerate(reversed(target_state)):\n",
    "    if bit == '1':\n",
    "        qc.x(i)\n",
    "\n",
    "# Aplicando a QFT inversa ao estado |011⟩\n",
    "qc.append(QFT(n_qubits).inverse(), range(n_qubits))\n",
    "\n",
    "# Salvar o vetor de estado\n",
    "qc.save_statevector()\n",
    "\n",
    "# Usar o AerSimulator para simular o circuito\n",
    "simulator = AerSimulator()\n",
    "compiled_circuit = transpile(qc, simulator)\n",
    "result = simulator.run(compiled_circuit).result()\n",
    "\n",
    "# Obter o vetor de estado final\n",
    "statevector = result.get_statevector()\n",
    "\n",
    "# Mostrar o estado |b⟩\n",
    "print(\"O estado |b⟩ é:\")\n",
    "print(statevector)\n"
   ]
  }
 ],
 "metadata": {
  "kernelspec": {
   "display_name": "Python 3 (ipykernel)",
   "language": "python",
   "name": "python3"
  },
  "language_info": {
   "codemirror_mode": {
    "name": "ipython",
    "version": 3
   },
   "file_extension": ".py",
   "mimetype": "text/x-python",
   "name": "python",
   "nbconvert_exporter": "python",
   "pygments_lexer": "ipython3",
   "version": "3.12.3"
  }
 },
 "nbformat": 4,
 "nbformat_minor": 5
}
