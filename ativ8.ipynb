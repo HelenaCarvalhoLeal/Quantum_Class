{
 "cells": [
  {
   "cell_type": "code",
   "execution_count": 2,
   "id": "c12390e7-c3f2-4e19-9ef6-f3e9de045c08",
   "metadata": {},
   "outputs": [],
   "source": [
    "from qiskit import QuantumCircuit, transpile\n",
    "from qiskit_aer import AerSimulator\n",
    "from qiskit.visualization import plot_histogram, plot_bloch_multivector\n",
    "import qiskit.quantum_info as qi\n",
    "from qiskit.quantum_info import Operator, Pauli\n",
    "from qiskit.primitives import Sampler, Estimator\n",
    "import numpy as np\n",
    "from qiskit.circuit.library import RXGate\n",
    "from qiskit_ibm_runtime import QiskitRuntimeService\n",
    "from qiskit.circuit.library import QFT"
   ]
  },
  {
   "cell_type": "markdown",
   "id": "32883357-44fc-4e2e-997f-5185b5e82541",
   "metadata": {},
   "source": [
    "a) Calcule a QFT do estado 1/√2(|000⟩ + |111⟩)."
   ]
  },
  {
   "cell_type": "code",
   "execution_count": 3,
   "id": "219151b2-a009-415b-8e0f-39160c002cc9",
   "metadata": {},
   "outputs": [
    {
     "data": {
      "image/png": "[encoded data removed]",
      "text/plain": [
       "<Figure size 831.22x367.889 with 1 Axes>"
      ]
     },
     "execution_count": 3,
     "metadata": {},
     "output_type": "execute_result"
    }
   ],
   "source": [
    "# Inicializa um circuito quântico com 3 qubits\n",
    "qc = QuantumCircuit(3)\n",
    "\n",
    "# Criação do estado 1/√2(|000⟩ + |111⟩)\n",
    "qc.h(0)\n",
    "qc.cx(0, 1)\n",
    "qc.cx(0, 2)\n",
    "\n",
    "# Adiciona a QFT ao circuito\n",
    "qft_circuit = QFT(num_qubits=3, inverse=False, do_swaps=True)\n",
    "qc.append(qft_circuit, range(3))\n",
    "\n",
    "# Mede os qubits\n",
    "qc.measure_all()\n",
    "\n",
    "# Visualiza o circuito\n",
    "qc.draw('mpl')\n"
   ]
  },
  {
   "cell_type": "markdown",
   "id": "67a73d69-6551-4e82-a748-f634d7f5646d",
   "metadata": {},
   "source": [
    "b) Ap os obter o estado resultante da QFT, calcule o tra ̧co parcial para determinar o operador densidade de cada qubit separadamente."
   ]
  },
  {
   "cell_type": "markdown",
   "id": "3bb2c49f-143f-4ce0-8deb-eefd5a8c5b04",
   "metadata": {},
   "source": [
    "c) Calcule a pureza de cada qubit individualmente utilizando os operadores densidade obtidos."
   ]
  },
  {
   "cell_type": "markdown",
   "id": "004f5b76-bc89-42be-9a8b-ff85332196fb",
   "metadata": {},
   "source": [
    "d) Determine o grau de emaranhamento do estado na base de Fourrier.\n",
    "Sabendo que que a pureza pode ser usada como medida de emaranhamento \n",
    "(se a pureza dos subsistemas for menor que 1, o estado é emaranhado), explique os resultados obtidos e discuta se o estado QFT[1/√2(|000⟩ + |111⟩)] ́e emaranhado."
   ]
  },
  {
   "cell_type": "markdown",
   "id": "7f17f3e7-c927-4fb0-aa5a-605ce483621c",
   "metadata": {},
   "source": [
    "2) Encontre o estado |b⟩ tal que QFT†|b⟩ = |011⟩. Use o Qiskit para verificar seus resultados."
   ]
  },
  {
   "cell_type": "code",
   "execution_count": 4,
   "id": "6bbfb83c-3b2a-418d-b2a7-30429929a35f",
   "metadata": {},
   "outputs": [
    {
     "ename": "NameError",
     "evalue": "name 'state' is not defined",
     "output_type": "error",
     "traceback": [
      "\u001b[1;31m---------------------------------------------------------------------------\u001b[0m",
      "\u001b[1;31mNameError\u001b[0m                                 Traceback (most recent call last)",
      "Cell \u001b[1;32mIn[4], line 4\u001b[0m\n\u001b[0;32m      1\u001b[0m \u001b[38;5;28;01mfrom\u001b[39;00m \u001b[38;5;21;01mqiskit\u001b[39;00m\u001b[38;5;21;01m.\u001b[39;00m\u001b[38;5;21;01mquantum_info\u001b[39;00m \u001b[38;5;28;01mimport\u001b[39;00m partial_trace\n\u001b[0;32m      3\u001b[0m \u001b[38;5;66;03m# Operador densidade do estado completo\u001b[39;00m\n\u001b[1;32m----> 4\u001b[0m rho \u001b[38;5;241m=\u001b[39m \u001b[43mstate\u001b[49m\u001b[38;5;241m.\u001b[39mto_operator()\n\u001b[0;32m      6\u001b[0m \u001b[38;5;66;03m# Traço parcial sobre os qubits 1 e 2 para obter o operador densidade do primeiro qubit\u001b[39;00m\n\u001b[0;32m      7\u001b[0m rho_1 \u001b[38;5;241m=\u001b[39m partial_trace(rho, [\u001b[38;5;241m1\u001b[39m, \u001b[38;5;241m2\u001b[39m])\n",
      "\u001b[1;31mNameError\u001b[0m: name 'state' is not defined"
     ]
    }
   ],
   "source": [
    "from qiskit.quantum_info import partial_trace\n",
    "\n",
    "# Operador densidade do estado completo\n",
    "rho = state.to_operator()\n",
    "\n",
    "# Traço parcial sobre os qubits 1 e 2 para obter o operador densidade do primeiro qubit\n",
    "rho_1 = partial_trace(rho, [1, 2])\n",
    "rho_2 = partial_trace(rho, [0, 2])\n",
    "rho_3 = partial_trace(rho, [0, 1])\n",
    "\n",
    "print(\"Operador densidade do qubit 1:\")\n",
    "print(rho_1)\n",
    "\n",
    "print(\"Operador densidade do qubit 2:\")\n",
    "print(rho_2)\n",
    "\n",
    "print(\"Operador densidade do qubit 3:\")\n",
    "print(rho_3)"
   ]
  }
 ],
 "metadata": {
  "kernelspec": {
   "display_name": "Python 3 (ipykernel)",
   "language": "python",
   "name": "python3"
  },
  "language_info": {
   "codemirror_mode": {
    "name": "ipython",
    "version": 3
   },
   "file_extension": ".py",
   "mimetype": "text/x-python",
   "name": "python",
   "nbconvert_exporter": "python",
   "pygments_lexer": "ipython3",
   "version": "3.12.3"
  }
 },
 "nbformat": 4,
 "nbformat_minor": 5
}
