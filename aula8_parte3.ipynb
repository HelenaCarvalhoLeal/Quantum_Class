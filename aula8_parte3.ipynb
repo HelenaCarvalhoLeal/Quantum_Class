{
 "cells": [
  {
   "cell_type": "code",
   "execution_count": null,
   "id": "5c33f394-eacb-4eba-b645-4a73ab34f80c",
   "metadata": {},
   "outputs": [],
   "source": [
    "from qiskit_ibm_runtime import QiskitRuntimeService\n",
    "\n",
    "service = QiskitRuntimeService(\n",
    "    channel='ibm_quantum',\n",
    "    instance='ibm-q/open/main',\n",
    "    token='seu TOKEN no site da ibm'\n",
    ")\n",
    "\n",
    "# Or save your credentials on disk.\n",
    "# QiskitRuntimeService.save_account(channel='ibm_quantum', instance='ibm-q/open/main', token='xxx')"
   ]
  },
  {
   "cell_type": "code",
   "execution_count": null,
   "id": "b24ae2c8-95db-490a-8760-c48fb35fc5fa",
   "metadata": {},
   "outputs": [],
   "source": [
    "import numpy as np\n",
    "from qiskit import QuantumCircuit, QuantumRegister, ClassicalRegister, transpile\n",
    "from qiskit.circuit import Parameter\n",
    "from qiskit.visualization import plot_distribution\n",
    "from qiskit_aer import AerSimulator\n",
    "from qiskit_ibm_runtime import SamplerV2, EstimatorV2, QiskitRuntimeService"
   ]
  },
  {
   "cell_type": "code",
   "execution_count": null,
   "id": "9dc0e79d-f8b8-4775-bb98-3bf05beffc84",
   "metadata": {},
   "outputs": [],
   "source": [
    "QiskitRuntimeService().backends(simulator=False, operational=True)"
   ]
  },
  {
   "cell_type": "code",
   "execution_count": null,
   "id": "143b31ea-6b1a-4a84-98c3-1923b6327955",
   "metadata": {},
   "outputs": [],
   "source": [
    "QiskitRuntimeService().least_busy(operational=True)"
   ]
  },
  {
   "cell_type": "code",
   "execution_count": null,
   "id": "6958174b-79a1-4846-a54d-e0967448fa4a",
   "metadata": {},
   "outputs": [],
   "source": [
    "backend_aer = AerSimulator()\n",
    "backend_kyoto = QiskitRuntimeService().get_backend('ibm_kyoto')"
   ]
  },
  {
   "cell_type": "code",
   "execution_count": null,
   "id": "9681b22e-f229-4317-b924-f501b70c258c",
   "metadata": {},
   "outputs": [],
   "source": [
    "qc1 = QuantumCircuit(1)\n",
    "qc1.h(0)\n",
    "qc1.measure_all()\n",
    "qc1.draw(\"mpl\")"
   ]
  },
  {
   "cell_type": "code",
   "execution_count": null,
   "id": "b8b8dd11-61d4-4c99-bcb1-7ce8c642dd18",
   "metadata": {},
   "outputs": [],
   "source": [
    "th = Parameter('theta')\n",
    "ph = Parameter('phi')\n",
    "\n",
    "qr = QuantumRegister(2, name='q')\n",
    "cr = ClassicalRegister(2, name='c')\n",
    "\n",
    "qc2 = QuantumCircuit(qr,cr)\n",
    "qc2.rx(th,1)\n",
    "qc2.crx(ph,1,0)\n",
    "\n",
    "qc2.measure(qr,cr)\n",
    "qc2.draw(\"mpl\")"
   ]
  },
  {
   "cell_type": "code",
   "execution_count": null,
   "id": "7c0d50f6-f49c-4e1b-80bf-1c96b593938f",
   "metadata": {},
   "outputs": [],
   "source": [
    "angles = [  [np.pi/4,np.pi/2] , [np.pi/3 , np.pi], [np.pi/2,np.pi]    ]"
   ]
  },
  {
   "cell_type": "code",
   "execution_count": null,
   "id": "010204ed-63e0-4921-bc22-9c20aa68e2c2",
   "metadata": {},
   "outputs": [],
   "source": [
    "qc2.parameters"
   ]
  },
  {
   "cell_type": "code",
   "execution_count": null,
   "id": "ae425420-3d46-471e-92ac-b2d5711aaee5",
   "metadata": {},
   "outputs": [],
   "source": [
    "qc1_aer = transpile(qc1,backend=backend_aer)\n",
    "qc1_aer.draw(\"mpl\")"
   ]
  },
  {
   "cell_type": "code",
   "execution_count": null,
   "id": "c81a4573-636c-4986-9442-7c9cb1cbada3",
   "metadata": {},
   "outputs": [],
   "source": [
    "qc2_aer = transpile(qc2,backend=backend_aer)\n",
    "qc2_aer.draw(\"mpl\")"
   ]
  },
  {
   "cell_type": "code",
   "execution_count": null,
   "id": "110e5408-f05f-42f0-8f8e-cc93a16ff880",
   "metadata": {},
   "outputs": [],
   "source": [
    "qc1_kyoto = transpile(qc1,backend=backend_kyoto)\n",
    "qc1_kyoto.draw(\"mpl\", idle_wires=False)"
   ]
  },
  {
   "cell_type": "code",
   "execution_count": null,
   "id": "04f34e0e-4bf0-4e04-94e6-543b80edbf14",
   "metadata": {},
   "outputs": [],
   "source": [
    "qc2_kyoto = transpile(qc2,backend=backend_kyoto)\n",
    "qc2_kyoto.draw(\"mpl\", idle_wires=False)"
   ]
  },
  {
   "cell_type": "code",
   "execution_count": null,
   "id": "32256cd0-0725-4b7b-a4c1-21470ab1e3a1",
   "metadata": {},
   "outputs": [],
   "source": [
    "backend_aer = AerSimulator()\n",
    "backend_kyoto = QiskitRuntimeService().get_backend('ibm_kyoto')\n",
    "\n",
    "sampler_aer = SamplerV2(backend=backend_aer)\n",
    "sampler_kyoto = SamplerV2(backend=backend_kyoto)"
   ]
  },
  {
   "cell_type": "markdown",
   "id": "32766cd1-535f-4004-b8d4-e7594ef8daf7",
   "metadata": {},
   "source": [
    "Sampler"
   ]
  },
  {
   "cell_type": "code",
   "execution_count": null,
   "id": "f52e2d63-b537-4942-833e-36869b0abcc8",
   "metadata": {},
   "outputs": [],
   "source": [
    "job_aer = sampler_aer.run( [ (qc1_aer,None,100),(qc2_aer,angles,1000)])"
   ]
  },
  {
   "cell_type": "code",
   "execution_count": null,
   "id": "ce31cc67-cc26-45f4-9407-fd3f6d427959",
   "metadata": {},
   "outputs": [],
   "source": [
    "job_kyoto = sampler_kyoto.run([(qc1_kyoto,None,100),(qc2_kyoto,angles,1000)]) #cstxtptsgar0008c01kg"
   ]
  },
  {
   "cell_type": "code",
   "execution_count": null,
   "id": "c63172a7-6cb7-48ce-a5c5-6dd25eef3902",
   "metadata": {},
   "outputs": [],
   "source": [
    "result_aer = job_aer.result()\n",
    "result_kyoto = job_kyoto.result()"
   ]
  },
  {
   "cell_type": "code",
   "execution_count": null,
   "id": "7e35104b-9795-465a-b235-9a2b0359f757",
   "metadata": {},
   "outputs": [],
   "source": [
    "counts_qc_aer = result_aer[0].data.meas.get_counts()\n",
    "counts_qc_kyoto = result_kyoto[0].data.meas.get_counts()"
   ]
  },
  {
   "cell_type": "code",
   "execution_count": null,
   "id": "a8687beb-e06e-4ea1-92f9-af266fd5da64",
   "metadata": {},
   "outputs": [],
   "source": [
    "plot_distribution([counts_qc_aer,counts_qc_kyoto], legend=['Simulador', 'QPU'])"
   ]
  },
  {
   "cell_type": "code",
   "execution_count": null,
   "id": "9c4c9217-7748-44eb-a60c-c231cca80f42",
   "metadata": {},
   "outputs": [],
   "source": [
    "counts_qc2_aer = result_aer[1].data.c.get_counts(0)\n",
    "counts_qc2_kyoto = result_kyoto[1].data.c.get_counts(0)\n",
    "\n",
    "#como rodamos um circuito parametrizado, ele mostrara o resultado da soma dos circuitos parametrizados\n",
    "print(f'Aer: {counts_qc2_aer}')\n",
    "print(f'QPU: {counts_qc2_kyoto}')"
   ]
  },
  {
   "cell_type": "code",
   "execution_count": null,
   "id": "881d57a4-9676-4505-b00b-7adbd0ed6ce1",
   "metadata": {},
   "outputs": [],
   "source": [
    "#extraindo do primeiro circuito o resultados\n",
    "counts_qc2_aer0 = result_aer[1].data.c.get_counts(1)\n",
    "counts_qc2_kyoto0 = result_kyoto[1].data.c.get_counts(1)\n",
    "\n",
    "plot_distribution([counts_qc2_aer0,counts_qc2_kyoto0], legend=['Simulador', 'QPU'])"
   ]
  },
  {
   "cell_type": "code",
   "execution_count": null,
   "id": "c8fef49c-4375-4906-92ea-e55e75588c97",
   "metadata": {},
   "outputs": [],
   "source": []
  }
 ],
 "metadata": {
  "kernelspec": {
   "display_name": "Python 3 (ipykernel)",
   "language": "python",
   "name": "python3"
  },
  "language_info": {
   "codemirror_mode": {
    "name": "ipython",
    "version": 3
   },
   "file_extension": ".py",
   "mimetype": "text/x-python",
   "name": "python",
   "nbconvert_exporter": "python",
   "pygments_lexer": "ipython3",
   "version": "3.12.3"
  }
 },
 "nbformat": 4,
 "nbformat_minor": 5
}
