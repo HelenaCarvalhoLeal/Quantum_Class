{
 "cells": [
  {
   "cell_type": "code",
   "execution_count": 1,
   "id": "d6e1bc91-a7dc-4d90-afff-701f0aa7b31b",
   "metadata": {},
   "outputs": [],
   "source": [
    "from qiskit import QuantumCircuit, transpile\n",
    "from qiskit_aer import AerSimulator\n",
    "from qiskit_ibm_runtime import SamplerV2, EstimatorV2 \n",
    "from qiskit.quantum_info import SparsePauliOp"
   ]
  },
  {
   "cell_type": "markdown",
   "id": "d0c2d089-b494-439e-94bd-d704fa5ea72c",
   "metadata": {},
   "source": [
    "## SAMPLER\n",
    "1. definir o backend\n",
    "2. definir o circuito\n",
    "3. transpilar o circuito\n",
    "4. instanciar o SamplerV2\n",
    "5. executar o circuito"
   ]
  },
  {
   "cell_type": "code",
   "execution_count": 2,
   "id": "8162e70c-13b3-4ef0-87cc-6368f3b34abb",
   "metadata": {},
   "outputs": [
    {
     "data": {
      "text/plain": [
       "{'00': 502, '11': 498}"
      ]
     },
     "execution_count": 2,
     "metadata": {},
     "output_type": "execute_result"
    }
   ],
   "source": [
    "# 1\n",
    "backend = AerSimulator()\n",
    "#backend = QiskitRuntimeService().get_backend('ibm_osaka')\n",
    "# 2\n",
    "qc = QuantumCircuit(2,2)\n",
    "qc.h(0)\n",
    "qc.cx(0,1)\n",
    "qc.measure([0,1],[0,1])\n",
    "# 3 \n",
    "qc_t = transpile(qc, backend = backend)\n",
    "# 4\n",
    "sampler = SamplerV2(backend=backend)\n",
    "# 5 \n",
    "job = sampler.run([ (qc_t,None,1000) ])\n",
    "result = job.result()\n",
    "result[0].data.c.get_counts()"
   ]
  },
  {
   "cell_type": "code",
   "execution_count": 3,
   "id": "6ff5bf08-e515-4cbb-9021-fcb40fbe88e5",
   "metadata": {},
   "outputs": [
    {
     "data": {
      "text/html": [
       "<pre style=\"word-wrap: normal;white-space: pre;background: #fff0;line-height: 1.1;font-family: &quot;Courier New&quot;,Courier,monospace\">     ┌───┐     ┌─┐   \n",
       "q_0: ┤ H ├──■──┤M├───\n",
       "     └───┘┌─┴─┐└╥┘┌─┐\n",
       "q_1: ─────┤ X ├─╫─┤M├\n",
       "          └───┘ ║ └╥┘\n",
       "c: 2/═══════════╩══╩═\n",
       "                0  1 </pre>"
      ],
      "text/plain": [
       "     ┌───┐     ┌─┐   \n",
       "q_0: ┤ H ├──■──┤M├───\n",
       "     └───┘┌─┴─┐└╥┘┌─┐\n",
       "q_1: ─────┤ X ├─╫─┤M├\n",
       "          └───┘ ║ └╥┘\n",
       "c: 2/═══════════╩══╩═\n",
       "                0  1 "
      ]
     },
     "execution_count": 3,
     "metadata": {},
     "output_type": "execute_result"
    }
   ],
   "source": [
    "qc_t.draw()"
   ]
  },
  {
   "cell_type": "markdown",
   "id": "f2d9c0c4-a8f9-4db0-a755-8a4091e21951",
   "metadata": {},
   "source": [
    "### Estimator\n",
    "1. definir o backend\n",
    "2. definir o circuito\n",
    "3. transpilar o circuito\n",
    "4. instanciar o EstimatorV2\n",
    "5. definir as observáveis\n",
    "6. mapear as observáveis no computador real (layout)\n",
    "7. aplicar o layout às observáveis\n",
    "8. executar o circuito"
   ]
  },
  {
   "cell_type": "code",
   "execution_count": 5,
   "id": "d33f284a-f6ef-4e27-a995-395a523b39c1",
   "metadata": {},
   "outputs": [
    {
     "name": "stdout",
     "output_type": "stream",
     "text": [
      "0.0011\n"
     ]
    }
   ],
   "source": [
    "#1\n",
    "backend = AerSimulator()\n",
    "# 2\n",
    "qc = QuantumCircuit(2)\n",
    "qc.h(0)\n",
    "# 3\n",
    "qc_t = transpile(qc, backend = backend)\n",
    "# 4\n",
    "estimator = EstimatorV2(backend=backend)\n",
    "# 5\n",
    "obs = SparsePauliOp( [ \"IZ\"], [0.5] )\n",
    "# 6\n",
    "layout = qc_t.layout\n",
    "# 7\n",
    "obsf = obs.apply_layout(layout)\n",
    "# 8\n",
    "job = estimator.run([ (qc_t, obsf, None, 0.01  )])\n",
    "print(job.result()[0].data.evs)"
   ]
  },
  {
   "cell_type": "code",
   "execution_count": null,
   "id": "50bb932d-83d4-4d4c-82df-7ba6e185fc53",
   "metadata": {},
   "outputs": [],
   "source": []
  }
 ],
 "metadata": {
  "kernelspec": {
   "display_name": "Python 3 (ipykernel)",
   "language": "python",
   "name": "python3"
  },
  "language_info": {
   "codemirror_mode": {
    "name": "ipython",
    "version": 3
   },
   "file_extension": ".py",
   "mimetype": "text/x-python",
   "name": "python",
   "nbconvert_exporter": "python",
   "pygments_lexer": "ipython3",
   "version": "3.12.3"
  }
 },
 "nbformat": 4,
 "nbformat_minor": 5
}
