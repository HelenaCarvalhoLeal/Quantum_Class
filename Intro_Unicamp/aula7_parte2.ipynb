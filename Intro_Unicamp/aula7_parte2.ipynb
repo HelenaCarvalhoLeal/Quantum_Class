{
 "cells": [
  {
   "cell_type": "code",
   "execution_count": 13,
   "id": "62f391ca-baba-4560-8531-8d0657a3d448",
   "metadata": {},
   "outputs": [],
   "source": [
    "import numpy as np\n",
    "from qiskit import QuantumCircuit\n",
    "from qiskit_aer import AerSimulator\n",
    "from qiskit import transpile\n",
    "from qiskit.visualization import plot_bloch_multivector\n",
    "import qiskit.quantum_info as qi"
   ]
  },
  {
   "cell_type": "code",
   "execution_count": 14,
   "id": "221e117f-a2cf-4e75-8654-8ed518e8ae1a",
   "metadata": {},
   "outputs": [
    {
     "data": {
      "text/latex": [
       "$$\n",
       "\n",
       "\\begin{bmatrix}\n",
       "\\frac{7}{10} & - 0.4582575695 i  \\\\\n",
       " 0.4582575695 i & \\frac{3}{10}  \\\\\n",
       " \\end{bmatrix}\n",
       "$$"
      ],
      "text/plain": [
       "<IPython.core.display.Latex object>"
      ]
     },
     "execution_count": 14,
     "metadata": {},
     "output_type": "execute_result"
    }
   ],
   "source": [
    "circuit = QuantumCircuit(1,1)\n",
    "\n",
    "circuit.initialize([np.sqrt(0.7), +1j*np.sqrt(0.3)],0)\n",
    "circuit.save_statevector()\n",
    "circuit.measure(0,0)\n",
    "\n",
    "simulador_aer = AerSimulator()\n",
    "qc_t = transpile(circuit, backend=simulador_aer)\n",
    "resultado = simulador_aer.run(qc_t, shots=30000).result()\n",
    "svector = resultado.get_statevector()\n",
    "\n",
    "rho = qi.DensityMatrix(svector)\n",
    "rho.draw(\"latex\")\n",
    "\n",
    "#circuit.draw(\"mpl\")"
   ]
  },
  {
   "cell_type": "code",
   "execution_count": 16,
   "id": "703866f9-8877-40b5-9513-1b25b42c2dd1",
   "metadata": {},
   "outputs": [
    {
     "data": {
      "text/plain": [
       "{'0': 20963, '1': 9037}"
      ]
     },
     "execution_count": 16,
     "metadata": {},
     "output_type": "execute_result"
    }
   ],
   "source": [
    "resultado.get_counts()"
   ]
  },
  {
   "cell_type": "code",
   "execution_count": 17,
   "id": "1c52cc09-4187-4a8d-a2f0-217be76b17ae",
   "metadata": {},
   "outputs": [],
   "source": [
    "r0 = resultado.get_counts()['0']\n",
    "r1 = resultado.get_counts()['1']"
   ]
  },
  {
   "cell_type": "code",
   "execution_count": null,
   "id": "aece2975-aed9-4b63-903c-e297c770d6d7",
   "metadata": {},
   "outputs": [],
   "source": [
    "#rl = list(result.get_count().items())[0],[1]\n",
    "#r0 = list(result.get_count().items())[1],[1]\n",
    "#print(r0)\n",
    "#print(r1)"
   ]
  },
  {
   "cell_type": "code",
   "execution_count": 18,
   "id": "8fad8b2d-9a5b-48a0-9a3d-45170dff3787",
   "metadata": {},
   "outputs": [
    {
     "data": {
      "text/plain": [
       "0.19876666666666667"
      ]
     },
     "execution_count": 18,
     "metadata": {},
     "output_type": "execute_result"
    }
   ],
   "source": [
    "(r0-r1)/(2*(r0+r1)) #valor esperado de <Z>"
   ]
  },
  {
   "cell_type": "code",
   "execution_count": 19,
   "id": "99165314-2d11-441a-827b-8037f7d89c12",
   "metadata": {},
   "outputs": [
    {
     "data": {
      "image/png": "[encoded data removed]",
      "text/plain": [
       "<Figure size 603.508x200.667 with 1 Axes>"
      ]
     },
     "execution_count": 19,
     "metadata": {},
     "output_type": "execute_result"
    }
   ],
   "source": [
    "circuit = QuantumCircuit(1,1)\n",
    "\n",
    "circuit.initialize([np.sqrt(0.7), +1j*np.sqrt(0.3)],0)\n",
    "circuit.rx(-np.pi/2,0) #Ry(pi/2)\n",
    "circuit.save_statevector()\n",
    "circuit.measure(0,0)\n",
    "\n",
    "simulador_aer = AerSimulator()\n",
    "qc_t = transpile(circuit, backend=simulador_aer)\n",
    "resultado = simulador_aer.run(qc_t, shots=30000).result()\n",
    "svector = resultado.get_statevector()\n",
    "\n",
    "#rho = qi.DensityMatrix(svector)\n",
    "#rho.draw(\"latex\")\n",
    "\n",
    "circuit.draw(\"mpl\")"
   ]
  },
  {
   "cell_type": "code",
   "execution_count": 20,
   "id": "63480756-45c1-47fc-9011-4748931223b4",
   "metadata": {},
   "outputs": [
    {
     "data": {
      "text/plain": [
       "{'1': 28753, '0': 1247}"
      ]
     },
     "execution_count": 20,
     "metadata": {},
     "output_type": "execute_result"
    }
   ],
   "source": [
    "resultado.get_counts()"
   ]
  },
  {
   "cell_type": "code",
   "execution_count": 21,
   "id": "24f8f210-eeb8-4345-b2f4-40a649583da3",
   "metadata": {},
   "outputs": [
    {
     "name": "stdout",
     "output_type": "stream",
     "text": [
      "1247\n",
      "28753\n"
     ]
    }
   ],
   "source": [
    "r0 = resultado.get_counts()['0']\n",
    "r1 = resultado.get_counts()['1']\n",
    "print(r0)\n",
    "print(r1)"
   ]
  },
  {
   "cell_type": "code",
   "execution_count": 22,
   "id": "35e5127b-8205-4903-965b-2acec8eaa6d8",
   "metadata": {},
   "outputs": [
    {
     "data": {
      "text/plain": [
       "-0.45843333333333336"
      ]
     },
     "execution_count": 22,
     "metadata": {},
     "output_type": "execute_result"
    }
   ],
   "source": [
    "(r0-r1)/(2*(r0+r1)) #valor esperado de <Y>"
   ]
  }
 ],
 "metadata": {
  "kernelspec": {
   "display_name": "Python 3 (ipykernel)",
   "language": "python",
   "name": "python3"
  },
  "language_info": {
   "codemirror_mode": {
    "name": "ipython",
    "version": 3
   },
   "file_extension": ".py",
   "mimetype": "text/x-python",
   "name": "python",
   "nbconvert_exporter": "python",
   "pygments_lexer": "ipython3",
   "version": "3.12.3"
  }
 },
 "nbformat": 4,
 "nbformat_minor": 5
}
