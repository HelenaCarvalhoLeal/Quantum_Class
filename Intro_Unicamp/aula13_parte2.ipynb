{
 "cells": [
  {
   "cell_type": "code",
   "execution_count": 1,
   "id": "376bca7c-3ade-4103-b07e-d9d013468916",
   "metadata": {},
   "outputs": [],
   "source": [
    "from qiskit import QuantumCircuit\n",
    "import qiskit.quantum_info as qi"
   ]
  },
  {
   "cell_type": "code",
   "execution_count": 2,
   "id": "6469c8f3-29c5-4029-ae26-e6cbdf228306",
   "metadata": {},
   "outputs": [
    {
     "data": {
      "image/png": "[encoded data removed]",
      "text/plain": [
       "<Figure size 287.294x200.667 with 1 Axes>"
      ]
     },
     "execution_count": 2,
     "metadata": {},
     "output_type": "execute_result"
    }
   ],
   "source": [
    "qc = QuantumCircuit(2)\n",
    "qc.h(0)\n",
    "qc.cx(0,1)\n",
    "qc.draw(\"mpl\")"
   ]
  },
  {
   "cell_type": "code",
   "execution_count": 3,
   "id": "5b8fa767-ced2-49ac-9424-0b00d1d0e6cc",
   "metadata": {},
   "outputs": [],
   "source": [
    "qc = qc.to_gate() # transforma o circuito em uma porta logica\n",
    "qc.name = \"Control-U\"\n",
    "cU = qc.control() # transformar a porta qc em uma porta controlada"
   ]
  },
  {
   "cell_type": "code",
   "execution_count": 4,
   "id": "27055d5d-95dd-4ad3-b234-0a34d99d1044",
   "metadata": {},
   "outputs": [
    {
     "data": {
      "image/png": "[encoded data removed]",
      "text/plain": [
       "<Figure size 287.496x702.333 with 1 Axes>"
      ]
     },
     "execution_count": 4,
     "metadata": {},
     "output_type": "execute_result"
    }
   ],
   "source": [
    "circ = QuantumCircuit(8)\n",
    "circ.append(cU,[7] + [0,1]) \n",
    "circ.draw(\"mpl\")"
   ]
  },
  {
   "cell_type": "code",
   "execution_count": 5,
   "id": "501e5240-cbe8-46da-9c2d-6d799306093f",
   "metadata": {},
   "outputs": [],
   "source": [
    "# fx = a^x mod 15\n",
    "\n",
    "def c_amod15(a, power):\n",
    "    \"\"\"Controlled multiplication by a mod 15\"\"\"\n",
    "    if a not in [2,4,7,8,11,13]:\n",
    "        raise ValueError(\"'a' must be 2,4,7,8,11 or 13\")\n",
    "    U = QuantumCircuit(4)     \n",
    "    for iteration in range(power):\n",
    "        if a in [2,13]:\n",
    "            U.swap(0,1)\n",
    "            U.swap(1,2)\n",
    "            U.swap(2,3)\n",
    "        if a in [7,8]:\n",
    "            U.swap(2,3)\n",
    "            U.swap(1,2)\n",
    "            U.swap(0,1)\n",
    "        if a in [4, 11]:\n",
    "            U.swap(1,3)\n",
    "            U.swap(0,2)\n",
    "        if a in [7,11,13]:\n",
    "            for q in range(4):\n",
    "                U.x(q)\n",
    "    #U = U.to_gate()\n",
    "    #U.name = \"%i^%i mod 15\" % (a, power)\n",
    "    #c_U = U.control()\n",
    "    return U"
   ]
  },
  {
   "cell_type": "code",
   "execution_count": 6,
   "id": "9613a99f-4fa9-41c9-a0ee-ce1e90640d04",
   "metadata": {},
   "outputs": [
    {
     "data": {
      "text/plain": [
       "{'1011': 10}"
      ]
     },
     "execution_count": 6,
     "metadata": {},
     "output_type": "execute_result"
    }
   ],
   "source": [
    "qc = QuantumCircuit(4)\n",
    "qc.x(3) # coloncando no estado |1> = 0001 (no qiskit (1000)\n",
    "\n",
    "U = c_amod15(7,3)\n",
    "qc.append(U,range(4))\n",
    "\n",
    "from qiskit.quantum_info import Statevector\n",
    "Statevector(qc).sample_counts(shots=10)"
   ]
  },
  {
   "cell_type": "code",
   "execution_count": 7,
   "id": "546c79bd-18d2-4699-86c5-408814b4839e",
   "metadata": {},
   "outputs": [
    {
     "name": "stdout",
     "output_type": "stream",
     "text": [
      "13\n"
     ]
    }
   ],
   "source": [
    "print(int(\"1101\",2))"
   ]
  },
  {
   "cell_type": "code",
   "execution_count": null,
   "id": "8b9d6158-0997-458d-94d6-0c956a87c218",
   "metadata": {},
   "outputs": [],
   "source": []
  }
 ],
 "metadata": {
  "kernelspec": {
   "display_name": "Python 3 (ipykernel)",
   "language": "python",
   "name": "python3"
  },
  "language_info": {
   "codemirror_mode": {
    "name": "ipython",
    "version": 3
   },
   "file_extension": ".py",
   "mimetype": "text/x-python",
   "name": "python",
   "nbconvert_exporter": "python",
   "pygments_lexer": "ipython3",
   "version": "3.12.3"
  }
 },
 "nbformat": 4,
 "nbformat_minor": 5
}
