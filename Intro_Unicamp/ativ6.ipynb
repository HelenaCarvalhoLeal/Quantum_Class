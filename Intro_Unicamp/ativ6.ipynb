{
 "cells": [
  {
   "cell_type": "markdown",
   "id": "08ebbdbc-018a-48d5-b099-e28e966c0f84",
   "metadata": {},
   "source": [
    "# Classe Sampler e Estimator"
   ]
  },
  {
   "cell_type": "code",
   "execution_count": 100,
   "id": "e2b5c491-3887-40aa-899f-23bcdb665358",
   "metadata": {},
   "outputs": [],
   "source": [
    "from qiskit import QuantumCircuit, transpile\n",
    "from qiskit_aer import AerSimulator\n",
    "from qiskit.visualization import plot_histogram, plot_bloch_multivector\n",
    "import qiskit.quantum_info as qi\n",
    "from qiskit.quantum_info import Operator, Pauli\n",
    "from qiskit.primitives import Sampler, Estimator\n",
    "import numpy as np\n",
    "from qiskit.circuit.library import RXGate\n",
    "from qiskit_ibm_runtime import QiskitRuntimeService"
   ]
  },
  {
   "cell_type": "markdown",
   "id": "fada2663-9457-42f0-9f22-c2fe6639da5e",
   "metadata": {},
   "source": [
    "### Passo 1 - Criar o Circuito Quântico de 1 qubit:"
   ]
  },
  {
   "cell_type": "code",
   "execution_count": 114,
   "id": "aa4ae7fa-612f-4332-9c03-ed4ccd1d2839",
   "metadata": {},
   "outputs": [],
   "source": [
    "# Criando o circuito quântico para preparar o estado conforme descrito\n",
    "qc = QuantumCircuit(1)\n",
    "qc.rx(np.pi / 3, 0)\n",
    "qc.rz(np.pi / 4, 0)\n",
    "\n",
    "# Criando o simulador\n",
    "simulator = AerSimulator()\n",
    "\n",
    "# Função para calcular valor esperado de uma base específica\n",
    "def calcular_valor_esperado(circuito, simulator, base=None):\n",
    "    if base == 'X':\n",
    "        circuito.h(0)\n",
    "    elif base == 'Y':\n",
    "        circuito.rx(-np.pi / 2, 0)\n",
    "    \n",
    "    circuito.measure_all()\n",
    "\n",
    "    transpiled_circuit = transpile(circuito, simulator)\n",
    "    result = simulator.run(transpiled_circuit, shots=10000).result()\n",
    "    counts = result.get_counts()\n",
    "\n",
    "    p_0 = counts.get('0', 0) / 10000\n",
    "    p_1 = counts.get('1', 0) / 10000\n",
    "    valor_esperado = p_0 - p_1\n",
    "    \n",
    "    return valor_esperado"
   ]
  },
  {
   "cell_type": "markdown",
   "id": "22137dbb-df30-4fd4-8931-4994ae03c2bb",
   "metadata": {},
   "source": [
    "### Passo 2 - Calcular o Valor Esperado de Z usando o Sampler:"
   ]
  },
  {
   "cell_type": "code",
   "execution_count": 115,
   "id": "03f2acf1-e4b5-4f84-b67f-397e112ef9b0",
   "metadata": {},
   "outputs": [
    {
     "name": "stdout",
     "output_type": "stream",
     "text": [
      "Valor esperado para a base Z: 0.5107999999999999\n"
     ]
    }
   ],
   "source": [
    "#Quando base=None é passado para a função calcular_valor_esperado,\n",
    "#o circuito é medido na base Z diretamente.\n",
    "\n",
    "# Executando o circuito e calculando o valor esperado para a base Z\n",
    "valor_esperado_z = calcular_valor_esperado(qc.copy(), simulator, base=None)\n",
    "\n",
    "# Exibindo o resultado para a base Z\n",
    "print(f\"Valor esperado para a base Z: {valor_esperado_z}\")"
   ]
  },
  {
   "cell_type": "markdown",
   "id": "cb6461b7-0b0d-4a3e-9519-d33474a9e136",
   "metadata": {},
   "source": [
    "### Passo 3 - Calcular o Valor Esperado de X usando o Sampler:"
   ]
  },
  {
   "cell_type": "code",
   "execution_count": 116,
   "id": "113963ff-b2d3-4488-85cb-56e7f8fbe7a7",
   "metadata": {},
   "outputs": [
    {
     "name": "stdout",
     "output_type": "stream",
     "text": [
      "Valor esperado para a base X: 0.6180000000000001\n"
     ]
    }
   ],
   "source": [
    "# Executando o circuito e calculando o valor esperado para a base X\n",
    "valor_esperado_x = calcular_valor_esperado(qc.copy(), simulator, base='X')\n",
    "\n",
    "# Exibindo o resultado para a base X\n",
    "print(f\"Valor esperado para a base X: {valor_esperado_x}\")"
   ]
  },
  {
   "cell_type": "markdown",
   "id": "d16978d0-634d-4e74-8d7a-c7ef9785b271",
   "metadata": {},
   "source": [
    "### Passo 4 - Calcular o Valor Esperado de Y usando o Sampler:"
   ]
  },
  {
   "cell_type": "code",
   "execution_count": 117,
   "id": "974cb77f-0b35-438b-b70e-ec267f618aeb",
   "metadata": {},
   "outputs": [
    {
     "name": "stdout",
     "output_type": "stream",
     "text": [
      "Valor esperado para a base Y: 0.6177999999999999\n"
     ]
    }
   ],
   "source": [
    "# Executando o circuito e calculando o valor esperado para a base Y\n",
    "valor_esperado_y = calcular_valor_esperado(qc.copy(), simulator, base='Y')\n",
    "\n",
    "# Exibindo o resultado para a base Y\n",
    "print(f\"Valor esperado para a base Y: {valor_esperado_y}\")"
   ]
  },
  {
   "cell_type": "markdown",
   "id": "970565aa-dfbd-4c79-8376-311a7fea3c00",
   "metadata": {},
   "source": [
    "### Passo 5 - Validar os Resultados usando o Estimator:"
   ]
  },
  {
   "cell_type": "code",
   "execution_count": 118,
   "id": "581b1fa6-8fdc-43ef-a831-e3851177dc07",
   "metadata": {},
   "outputs": [
    {
     "name": "stdout",
     "output_type": "stream",
     "text": [
      "Resultados usando o Sampler:\n",
      "Valor esperado de Z: 0.5107999999999999\n",
      "Valor esperado de X: 0.6180000000000001\n",
      "Valor esperado de Y: 0.6177999999999999\n",
      "\n",
      "Resultados usando o Estimator:\n",
      "Valor esperado de Z: 0.5\n",
      "Valor esperado de X: 0.6123724356957945\n",
      "Valor esperado de Y: -0.6123724356957945\n"
     ]
    }
   ],
   "source": [
    "# Utilizando o Estimator para comparar os resultados\n",
    "estimator = Estimator()\n",
    "\n",
    "# Observáveis convertidos para Pauli\n",
    "observables = [Pauli('Z'), Pauli('X'), Pauli('Y')]\n",
    "jobs = [estimator.run(qc, obs) for obs in observables]\n",
    "results = [job.result().values[0] for job in jobs]\n",
    "\n",
    "# Resultados com o Sampler e o Estimator\n",
    "print(\"Resultados usando o Sampler:\")\n",
    "print(f\"Valor esperado de Z: {valor_esperado_z}\")\n",
    "print(f\"Valor esperado de X: {valor_esperado_x}\")\n",
    "print(f\"Valor esperado de Y: {valor_esperado_y}\")\n",
    "\n",
    "print(\"\\nResultados usando o Estimator:\")\n",
    "print(f\"Valor esperado de Z: {results[0]}\")\n",
    "print(f\"Valor esperado de X: {results[1]}\")\n",
    "print(f\"Valor esperado de Y: {results[2]}\")\n"
   ]
  },
  {
   "cell_type": "markdown",
   "id": "f6f4d4c6-bd57-49cc-bed3-8e7bb32cd6af",
   "metadata": {},
   "source": [
    "Obs.: O objetivo era testar o sampler, mas não funcionava, então para um código com outputs certos troquei o uso do sampler pelo simulador."
   ]
  }
 ],
 "metadata": {
  "kernelspec": {
   "display_name": "Python 3 (ipykernel)",
   "language": "python",
   "name": "python3"
  },
  "language_info": {
   "codemirror_mode": {
    "name": "ipython",
    "version": 3
   },
   "file_extension": ".py",
   "mimetype": "text/x-python",
   "name": "python",
   "nbconvert_exporter": "python",
   "pygments_lexer": "ipython3",
   "version": "3.12.3"
  }
 },
 "nbformat": 4,
 "nbformat_minor": 5
}
