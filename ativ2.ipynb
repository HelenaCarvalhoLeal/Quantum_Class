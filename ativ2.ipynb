{
 "cells": [
  {
   "cell_type": "markdown",
   "id": "ccf72419-46f2-401f-a5b9-7d6bb4caf6b2",
   "metadata": {
    "tags": []
   },
   "source": [
    "Obs.: Ativ 1 foi teórica"
   ]
  },
  {
   "cell_type": "code",
   "execution_count": 2,
   "id": "c0c542b6-f8e0-42a2-9f67-d8a1f6257bbf",
   "metadata": {
    "tags": []
   },
   "outputs": [],
   "source": [
    "import qiskit"
   ]
  },
  {
   "cell_type": "code",
   "execution_count": 3,
   "id": "47e06f21-e002-4cdd-9c58-e6edd9445f6d",
   "metadata": {},
   "outputs": [],
   "source": [
    "import numpy as np"
   ]
  },
  {
   "cell_type": "code",
   "execution_count": 14,
   "id": "94db6620-257a-4906-b7db-3e969a52379c",
   "metadata": {},
   "outputs": [],
   "source": [
    "# definindo um numero complexo\n",
    "z = 2 + 3j"
   ]
  },
  {
   "cell_type": "code",
   "execution_count": 15,
   "id": "e5101a63-30d0-4fc6-af2e-b2f80ce70f74",
   "metadata": {},
   "outputs": [
    {
     "name": "stdout",
     "output_type": "stream",
     "text": [
      "(2+3j)\n"
     ]
    }
   ],
   "source": [
    "print(z)"
   ]
  },
  {
   "cell_type": "code",
   "execution_count": 16,
   "id": "89186666-598c-4924-8a6e-f08e08193579",
   "metadata": {},
   "outputs": [
    {
     "data": {
      "text/plain": [
       "3.605551275463989"
      ]
     },
     "execution_count": 16,
     "metadata": {},
     "output_type": "execute_result"
    }
   ],
   "source": [
    "# módulo de a\n",
    "abs(z)"
   ]
  },
  {
   "cell_type": "code",
   "execution_count": 17,
   "id": "ca3cede1-d321-4c7f-bf19-d6d7326deb6d",
   "metadata": {},
   "outputs": [],
   "source": [
    "w = 5 - 2j"
   ]
  },
  {
   "cell_type": "code",
   "execution_count": 18,
   "id": "515d4162-43e6-4269-969f-d965208d5414",
   "metadata": {},
   "outputs": [
    {
     "name": "stdout",
     "output_type": "stream",
     "text": [
      "(5-2j)\n"
     ]
    }
   ],
   "source": [
    "print(w)"
   ]
  },
  {
   "cell_type": "code",
   "execution_count": 19,
   "id": "f4ae40b1-0145-4953-a118-5ab3a7367e05",
   "metadata": {},
   "outputs": [
    {
     "data": {
      "text/plain": [
       "5.385164807134504"
      ]
     },
     "execution_count": 19,
     "metadata": {},
     "output_type": "execute_result"
    }
   ],
   "source": [
    "abs(w)"
   ]
  },
  {
   "cell_type": "code",
   "execution_count": 20,
   "id": "89ce8782-b540-4cc2-8b5a-a017d01d7f4c",
   "metadata": {},
   "outputs": [
    {
     "data": {
      "text/plain": [
       "(0.30769230769230765-1.4615384615384617j)"
      ]
     },
     "execution_count": 20,
     "metadata": {},
     "output_type": "execute_result"
    }
   ],
   "source": [
    "#w/z\n",
    "(5-2j)/(2+3j)"
   ]
  },
  {
   "cell_type": "code",
   "execution_count": 21,
   "id": "e05acee2-affa-45ea-b8e7-89b4b2d45cfb",
   "metadata": {},
   "outputs": [
    {
     "data": {
      "text/plain": [
       "(2-3j)"
      ]
     },
     "execution_count": 21,
     "metadata": {},
     "output_type": "execute_result"
    }
   ],
   "source": [
    "#conjugado do z\n",
    "np.conjugate(z)"
   ]
  },
  {
   "cell_type": "code",
   "execution_count": 22,
   "id": "a6d56c93-1d19-4ca2-876e-0956528470c4",
   "metadata": {},
   "outputs": [
    {
     "data": {
      "text/plain": [
       "(5+2j)"
      ]
     },
     "execution_count": 22,
     "metadata": {},
     "output_type": "execute_result"
    }
   ],
   "source": [
    "#conjugado do w\n",
    "np.conjugate(w)"
   ]
  },
  {
   "cell_type": "code",
   "execution_count": 15,
   "id": "6bb29460-914b-4d02-a5a0-8265dd323cd0",
   "metadata": {
    "scrolled": true
   },
   "outputs": [
    {
     "name": "stdout",
     "output_type": "stream",
     "text": [
      "[[1.-1.j]\n",
      " [4.+1.j]]\n"
     ]
    }
   ],
   "source": [
    "v0c = np.array([[1-1j],[4+1j]])\n",
    "print(v0c)"
   ]
  },
  {
   "cell_type": "code",
   "execution_count": 16,
   "id": "b078dda6-b18b-4197-b610-7d788d606b4e",
   "metadata": {},
   "outputs": [
    {
     "name": "stdout",
     "output_type": "stream",
     "text": [
      "[[3.-1.j 2.+2.j]]\n"
     ]
    }
   ],
   "source": [
    "v0l = np.array([ [3-1j,2+2j] ])\n",
    "print(v0l)"
   ]
  },
  {
   "cell_type": "code",
   "execution_count": 17,
   "id": "afbbfb33-5916-48a0-99b0-1cffcd14deab",
   "metadata": {},
   "outputs": [
    {
     "data": {
      "text/plain": [
       "array([[8.+6.j]])"
      ]
     },
     "execution_count": 17,
     "metadata": {},
     "output_type": "execute_result"
    }
   ],
   "source": [
    "#produto de vetores ou matrizes\n",
    "v0l@v0c"
   ]
  }
 ],
 "metadata": {
  "kernelspec": {
   "display_name": "Python 3 (ipykernel)",
   "language": "python",
   "name": "python3"
  },
  "language_info": {
   "codemirror_mode": {
    "name": "ipython",
    "version": 3
   },
   "file_extension": ".py",
   "mimetype": "text/x-python",
   "name": "python",
   "nbconvert_exporter": "python",
   "pygments_lexer": "ipython3",
   "version": "3.12.3"
  }
 },
 "nbformat": 4,
 "nbformat_minor": 5
}
