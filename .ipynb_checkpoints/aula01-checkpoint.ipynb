{
 "cells": [
  {
   "cell_type": "code",
   "execution_count": 1,
   "id": "8746604c-7d1b-45a4-86bb-dbd0d06fd16c",
   "metadata": {},
   "outputs": [],
   "source": [
    "import qiskit"
   ]
  },
  {
   "cell_type": "code",
   "execution_count": 2,
   "id": "ac161c4d-59b5-471b-b671-4dd33e00804d",
   "metadata": {},
   "outputs": [
    {
     "data": {
      "text/plain": [
       "'1.0.2'"
      ]
     },
     "execution_count": 2,
     "metadata": {},
     "output_type": "execute_result"
    }
   ],
   "source": [
    "qiskit.__version__"
   ]
  },
  {
   "cell_type": "code",
   "execution_count": 6,
   "id": "a8748654-8ab9-40ac-8020-5408066b60da",
   "metadata": {},
   "outputs": [],
   "source": [
    "import numpy as np"
   ]
  },
  {
   "cell_type": "code",
   "execution_count": 7,
   "id": "7c38df0f-4697-43f8-89b1-df72858e962d",
   "metadata": {},
   "outputs": [],
   "source": [
    "# definindo um numero complexo\n",
    "a = 5 + 3j"
   ]
  },
  {
   "cell_type": "code",
   "execution_count": 8,
   "id": "ceec5c49-d331-47d9-9577-2ae006d6465c",
   "metadata": {},
   "outputs": [
    {
     "name": "stdout",
     "output_type": "stream",
     "text": [
      "(5+3j)\n"
     ]
    }
   ],
   "source": [
    "print(a)"
   ]
  },
  {
   "cell_type": "code",
   "execution_count": 9,
   "id": "cf377b97-8583-464d-897c-7cf93388dc16",
   "metadata": {},
   "outputs": [
    {
     "data": {
      "text/plain": [
       "5.830951894845301"
      ]
     },
     "execution_count": 9,
     "metadata": {},
     "output_type": "execute_result"
    }
   ],
   "source": [
    "# módulo de a\n",
    "abs(a)"
   ]
  },
  {
   "cell_type": "code",
   "execution_count": 10,
   "id": "7419d3d7-04ed-48cc-afc4-f6a6458a523a",
   "metadata": {},
   "outputs": [
    {
     "data": {
      "text/plain": [
       "(1.7999999999999998+0.4j)"
      ]
     },
     "execution_count": 10,
     "metadata": {},
     "output_type": "execute_result"
    }
   ],
   "source": [
    "(5+3j)/(3+1j)"
   ]
  },
  {
   "cell_type": "code",
   "execution_count": 13,
   "id": "7ef74b61-dcd6-4b5e-9e71-6b94c617a141",
   "metadata": {},
   "outputs": [],
   "source": [
    "#a.imag para imaginarios e a.real para reais"
   ]
  },
  {
   "cell_type": "code",
   "execution_count": 15,
   "id": "c26deab7-86d4-4c88-96d3-316e1859d1aa",
   "metadata": {},
   "outputs": [
    {
     "data": {
      "text/plain": [
       "(5-3j)"
      ]
     },
     "execution_count": 15,
     "metadata": {},
     "output_type": "execute_result"
    }
   ],
   "source": [
    "#conjugado do a\n",
    "np.conjugate(a)"
   ]
  },
  {
   "cell_type": "code",
   "execution_count": 24,
   "id": "d40f2aaa-ba22-40b4-bb67-d7d9ae445d2a",
   "metadata": {},
   "outputs": [
    {
     "name": "stdout",
     "output_type": "stream",
     "text": [
      "[[1 0]]\n"
     ]
    }
   ],
   "source": [
    "v0l = np.array([ [1,0] ])\n",
    "print(v0l)"
   ]
  },
  {
   "cell_type": "code",
   "execution_count": 25,
   "id": "2abd5558-0391-4f1d-92f8-965cb79b8f2f",
   "metadata": {
    "scrolled": true
   },
   "outputs": [
    {
     "name": "stdout",
     "output_type": "stream",
     "text": [
      "[[1]\n",
      " [0]]\n"
     ]
    }
   ],
   "source": [
    "v0c = np.array([[1],[0]])\n",
    "print(v0c)"
   ]
  },
  {
   "cell_type": "code",
   "execution_count": 26,
   "id": "57049d6c-8325-422f-8159-5b46402b1087",
   "metadata": {},
   "outputs": [
    {
     "data": {
      "text/plain": [
       "array([[1]])"
      ]
     },
     "execution_count": 26,
     "metadata": {},
     "output_type": "execute_result"
    }
   ],
   "source": [
    "#produto de vetores ou matrizes\n",
    "v0l@v0c"
   ]
  },
  {
   "cell_type": "code",
   "execution_count": 27,
   "id": "f6429ff1-60d9-47ac-9a96-4135b5e0b5ea",
   "metadata": {},
   "outputs": [
    {
     "data": {
      "text/plain": [
       "array([[1, 0],\n",
       "       [0, 0]])"
      ]
     },
     "execution_count": 27,
     "metadata": {},
     "output_type": "execute_result"
    }
   ],
   "source": [
    "v0c@v0l"
   ]
  },
  {
   "cell_type": "code",
   "execution_count": 29,
   "id": "64f0ca9b-c138-4447-a6e5-c46c9e5b8976",
   "metadata": {},
   "outputs": [
    {
     "name": "stdout",
     "output_type": "stream",
     "text": [
      "[[1]\n",
      " [0]]\n",
      "[[0]\n",
      " [1]]\n"
     ]
    }
   ],
   "source": [
    "v1c = np.array([ [0], [1] ])\n",
    "print(v0c)\n",
    "print(v1c)"
   ]
  },
  {
   "cell_type": "code",
   "execution_count": 37,
   "id": "87039149-2776-48f9-8431-64f4b245fba6",
   "metadata": {},
   "outputs": [
    {
     "name": "stdout",
     "output_type": "stream",
     "text": [
      "[[0.48038446+0.16012815j]\n",
      " [0.80064077-0.32025631j]]\n"
     ]
    }
   ],
   "source": [
    "psi = (3+1j)*v0c/np.sqrt(39) + (5-2j)*v1c/np.sqrt(39)\n",
    "print(psi)"
   ]
  },
  {
   "cell_type": "code",
   "execution_count": 38,
   "id": "acadceb2-b3df-4fb3-b0b0-e14e59434068",
   "metadata": {},
   "outputs": [
    {
     "data": {
      "text/plain": [
       "array([[0.48038446-0.16012815j],\n",
       "       [0.80064077+0.32025631j]])"
      ]
     },
     "execution_count": 38,
     "metadata": {},
     "output_type": "execute_result"
    }
   ],
   "source": [
    "np.conj(psi)"
   ]
  },
  {
   "cell_type": "code",
   "execution_count": 39,
   "id": "3214625b-ebed-43bd-92a8-adc435b8d9d7",
   "metadata": {},
   "outputs": [],
   "source": [
    "#transposto complexo conjugado ou \n",
    "psid = np.transpose(np.conj(psi))"
   ]
  },
  {
   "cell_type": "code",
   "execution_count": 40,
   "id": "57c47fab-3e55-4157-b35b-ad98c2729b4d",
   "metadata": {},
   "outputs": [
    {
     "data": {
      "text/plain": [
       "array([[1.+0.j]])"
      ]
     },
     "execution_count": 40,
     "metadata": {},
     "output_type": "execute_result"
    }
   ],
   "source": [
    "psid@psi"
   ]
  },
  {
   "cell_type": "code",
   "execution_count": 42,
   "id": "ad273256-b823-40e2-8d46-9599e91976e7",
   "metadata": {},
   "outputs": [
    {
     "data": {
      "text/plain": [
       "array([[0.25641026+0.j        , 0.33333333+0.28205128j],\n",
       "       [0.33333333-0.28205128j, 0.74358974+0.j        ]])"
      ]
     },
     "execution_count": 42,
     "metadata": {},
     "output_type": "execute_result"
    }
   ],
   "source": [
    "psi@psid"
   ]
  },
  {
   "cell_type": "code",
   "execution_count": 43,
   "id": "c404358f-4578-4afc-8a36-1bb9a2ff3a82",
   "metadata": {},
   "outputs": [
    {
     "name": "stdout",
     "output_type": "stream",
     "text": [
      "[[ 1  0]\n",
      " [ 0 -1]]\n"
     ]
    }
   ],
   "source": [
    "Sz = np.array([ [1,0], [0,-1] ])\n",
    "print(Sz)"
   ]
  },
  {
   "cell_type": "code",
   "execution_count": 44,
   "id": "2a7af512-373e-4efe-b860-a433a009bc3b",
   "metadata": {},
   "outputs": [
    {
     "data": {
      "text/plain": [
       "array([[0.48038446+0.16012815j],\n",
       "       [0.80064077-0.32025631j]])"
      ]
     },
     "execution_count": 44,
     "metadata": {},
     "output_type": "execute_result"
    }
   ],
   "source": [
    "psi"
   ]
  },
  {
   "cell_type": "code",
   "execution_count": 45,
   "id": "a749dbb5-e17c-4892-95a1-3b8ee74eec57",
   "metadata": {},
   "outputs": [
    {
     "data": {
      "text/plain": [
       "array([[ 0.48038446+0.16012815j],\n",
       "       [-0.80064077+0.32025631j]])"
      ]
     },
     "execution_count": 45,
     "metadata": {},
     "output_type": "execute_result"
    }
   ],
   "source": [
    "Sz@psi"
   ]
  },
  {
   "cell_type": "code",
   "execution_count": 47,
   "id": "07c1fdec-946d-4ee8-a12d-1ea1661b1041",
   "metadata": {},
   "outputs": [
    {
     "name": "stdout",
     "output_type": "stream",
     "text": [
      "[[0 1]\n",
      " [1 0]]\n"
     ]
    }
   ],
   "source": [
    "Sx = np.array([ [0,1], [1,0] ])\n",
    "print(Sx)"
   ]
  },
  {
   "cell_type": "code",
   "execution_count": 48,
   "id": "3bef71cf-4657-47db-944a-1a8dd9c23e3d",
   "metadata": {},
   "outputs": [
    {
     "data": {
      "text/plain": [
       "array([[0.80064077-0.32025631j],\n",
       "       [0.48038446+0.16012815j]])"
      ]
     },
     "execution_count": 48,
     "metadata": {},
     "output_type": "execute_result"
    }
   ],
   "source": [
    "Sx@psi"
   ]
  }
 ],
 "metadata": {
  "kernelspec": {
   "display_name": "Python 3 (ipykernel)",
   "language": "python",
   "name": "python3"
  },
  "language_info": {
   "codemirror_mode": {
    "name": "ipython",
    "version": 3
   },
   "file_extension": ".py",
   "mimetype": "text/x-python",
   "name": "python",
   "nbconvert_exporter": "python",
   "pygments_lexer": "ipython3",
   "version": "3.12.3"
  }
 },
 "nbformat": 4,
 "nbformat_minor": 5
}
