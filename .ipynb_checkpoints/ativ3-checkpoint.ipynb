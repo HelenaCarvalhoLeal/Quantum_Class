{
 "cells": [
  {
   "cell_type": "code",
   "execution_count": 54,
   "id": "35856313-ff3b-4c27-b82e-16dd6a27c529",
   "metadata": {},
   "outputs": [],
   "source": [
    "import numpy as np"
   ]
  },
  {
   "cell_type": "code",
   "execution_count": 55,
   "id": "e7d7dbfb-95f3-42d2-8232-94cabf9b3417",
   "metadata": {},
   "outputs": [],
   "source": [
    "v0c = np.array([ [1/np.sqrt(2)],[-1j/np.sqrt(2)] ])"
   ]
  },
  {
   "cell_type": "code",
   "execution_count": 56,
   "id": "c21e7a08-390b-4709-97ea-0af1f17feda1",
   "metadata": {},
   "outputs": [
    {
     "name": "stdout",
     "output_type": "stream",
     "text": [
      "[[ 0.70710678+0.j        ]\n",
      " [-0.        -0.70710678j]]\n"
     ]
    }
   ],
   "source": [
    "print(v0c)"
   ]
  },
  {
   "cell_type": "code",
   "execution_count": 57,
   "id": "629a7c9a-fce9-4fe9-83e8-45e49468fced",
   "metadata": {},
   "outputs": [],
   "source": [
    "v0l = np.array([[1/np.sqrt(2), (1j/np.sqrt(2))]])"
   ]
  },
  {
   "cell_type": "code",
   "execution_count": 58,
   "id": "a167997d-6aa7-4061-8bca-fc1d7dd04294",
   "metadata": {},
   "outputs": [
    {
     "name": "stdout",
     "output_type": "stream",
     "text": [
      "[[0.70710678+0.j         0.        +0.70710678j]]\n"
     ]
    }
   ],
   "source": [
    "print(v0l)"
   ]
  },
  {
   "cell_type": "code",
   "execution_count": 59,
   "id": "49d3788e-1e6e-40cf-8af9-ac9370190367",
   "metadata": {},
   "outputs": [
    {
     "data": {
      "text/plain": [
       "array([[0.5+0.j , 0. +0.5j],\n",
       "       [0. -0.5j, 0.5+0.j ]])"
      ]
     },
     "execution_count": 59,
     "metadata": {},
     "output_type": "execute_result"
    }
   ],
   "source": [
    "v0c@v0l"
   ]
  },
  {
   "cell_type": "markdown",
   "id": "93a078ba-29a1-4c0c-9619-5a996a648425",
   "metadata": {},
   "source": [
    "PARTE 2"
   ]
  },
  {
   "cell_type": "markdown",
   "id": "f3c5d55c-1ff4-41aa-9738-acd7c4edca5d",
   "metadata": {},
   "source": [
    "1. Considere um qubit inicialmente no estado b ́asico |0⟩. Utilizando a representação da esfera de Bloch, execute as seguintes operações, uma de cada vez, e determine a posiçao final do vetor de estado na esfera de Bloch após cada operação:\n",
    "\n",
    "   \n",
    "a.) Aplique a operação de Hadamard (H) ao estado |0⟩. Descreva a nova posição do vetor de estado na esfera.\n",
    "\n",
    "\n",
    "b.) A partir do estado resultante, aplique a operação X (porta NOT quântica). Indique a nova localização do vetor de estado.\n",
    "\n",
    "\n",
    "c.) Em seguida, aplique a opera ̧c ̃ao Z ao estado resultante da operação anterior. Descreva como isso afeta a orientação do vetor de estado na esfera de Bloch.\n",
    "\n",
    "\n",
    "d.) Finalmente, aplique novamente a opera ̧c ̃ao de Hadamard(H) ao ́ultimo estado obtido. Determine a posi ̧c ̃ao final do vetor de estado."
   ]
  },
  {
   "cell_type": "code",
   "execution_count": null,
   "id": "5c22e8db-74cf-4eb3-bdfb-95a87438c228",
   "metadata": {},
   "outputs": [],
   "source": []
  }
 ],
 "metadata": {
  "kernelspec": {
   "display_name": "Python 3 (ipykernel)",
   "language": "python",
   "name": "python3"
  },
  "language_info": {
   "codemirror_mode": {
    "name": "ipython",
    "version": 3
   },
   "file_extension": ".py",
   "mimetype": "text/x-python",
   "name": "python",
   "nbconvert_exporter": "python",
   "pygments_lexer": "ipython3",
   "version": "3.12.3"
  }
 },
 "nbformat": 4,
 "nbformat_minor": 5
}
