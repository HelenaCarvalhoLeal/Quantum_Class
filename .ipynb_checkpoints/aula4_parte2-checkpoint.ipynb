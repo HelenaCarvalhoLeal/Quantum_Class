{
 "cells": [
  {
   "cell_type": "code",
   "execution_count": 1,
   "id": "ba8e349a-2b10-4725-a823-5e37bce1aed4",
   "metadata": {},
   "outputs": [],
   "source": [
    "import numpy as np\n",
    "from qiskit import *\n",
    "from qiskit.providers.basic_provider import BasicSimulator\n",
    "from qiskit.visualization import plot_histogram, plot_distribution"
   ]
  },
  {
   "cell_type": "code",
   "execution_count": 11,
   "id": "59b85f9e-5103-4d14-872f-3fe7fa3fb419",
   "metadata": {},
   "outputs": [
    {
     "data": {
      "image/png": "[encoded data removed]",
      "text/plain": [
       "<Figure size 653.181x284.278 with 1 Axes>"
      ]
     },
     "execution_count": 11,
     "metadata": {},
     "output_type": "execute_result"
    }
   ],
   "source": [
    "#Superdense Coding\n",
    "\n",
    "A = QuantumRegister(1, 'alice')\n",
    "B = QuantumRegister(1,'bob')\n",
    "cbit = ClassicalRegister(2)\n",
    "qcSd = QuantumCircuit(A, B, cbit)\n",
    "qcSd.initialize([1/np.sqrt(2), 0, 0, 1/np.sqrt(2)],[0,1]) \n",
    "#alice e bob compartilhando um estado de superemaranhamento compartilhado? foi isso que o prof disse?\n",
    "#alice operations\n",
    "qcSd.x(0)\n",
    "qcSd.z(0)\n",
    "\n",
    "#bob operations\n",
    "qcSd.cx(0,1)\n",
    "qcSd.h(0)\n",
    "\n",
    "qcSd.draw(\"mpl\")"
   ]
  },
  {
   "cell_type": "markdown",
   "id": "e62bb2c8-4ffc-4b9e-abed-0e97246f92df",
   "metadata": {},
   "source": [
    "(|00> +|11>)/ (raiz de 2)= (1/raiz de 2)\n",
    "\n",
    "                       (0)\n",
    "                       \n",
    "                       (0)\n",
    "                       \n",
    "                       (1/raiz de 2)\n",
    "                       "
   ]
  },
  {
   "cell_type": "code",
   "execution_count": 10,
   "id": "7dd38173-3c66-47df-8584-5f912e1d528c",
   "metadata": {},
   "outputs": [
    {
     "name": "stdout",
     "output_type": "stream",
     "text": [
      "{'11': 1}\n"
     ]
    }
   ],
   "source": [
    "qcSd.measure([0,1],[0,1])\n",
    "simulator_basic = BasicSimulator()\n",
    "qc_t = transpile(qcSd, backend=simulator_basic)\n",
    "job = simulator_basic.run(qc_t, shots=1)\n",
    "result = job.result()\n",
    "counts = result.get_counts()\n",
    "print(counts)"
   ]
  },
  {
   "cell_type": "code",
   "execution_count": null,
   "id": "4dde0fb2-736d-491f-840d-cf4a40e1a33a",
   "metadata": {},
   "outputs": [],
   "source": []
  }
 ],
 "metadata": {
  "kernelspec": {
   "display_name": "Python 3 (ipykernel)",
   "language": "python",
   "name": "python3"
  },
  "language_info": {
   "codemirror_mode": {
    "name": "ipython",
    "version": 3
   },
   "file_extension": ".py",
   "mimetype": "text/x-python",
   "name": "python",
   "nbconvert_exporter": "python",
   "pygments_lexer": "ipython3",
   "version": "3.12.3"
  }
 },
 "nbformat": 4,
 "nbformat_minor": 5
}
