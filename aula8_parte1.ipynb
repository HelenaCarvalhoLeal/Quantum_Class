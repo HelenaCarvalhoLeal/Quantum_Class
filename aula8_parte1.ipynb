{
 "cells": [
  {
   "cell_type": "code",
   "execution_count": 7,
   "id": "e1ff3c57-fb26-49c3-8360-4a017edb26d6",
   "metadata": {},
   "outputs": [],
   "source": [
    "from qiskit import QuantumCircuit, transpile\n",
    "from qiskit_aer import AerSimulator\n",
    "from qiskit.visualization import plot_bloch_multivector\n",
    "import qiskit.quantum_info as qi\n",
    "import random"
   ]
  },
  {
   "cell_type": "code",
   "execution_count": 8,
   "id": "96ac60ca-5e0d-4f15-b55b-dc69dc820942",
   "metadata": {},
   "outputs": [],
   "source": [
    "def d_oracle(caso):\n",
    "    oracle_qc = QuantumCircuit(2)\n",
    "    \n",
    "    if caso == 'constante':\n",
    "        b = random.randint(1,2)\n",
    "        if b==1:\n",
    "            oracle_qc.id(1) #identidade em |y>\n",
    "        else:\n",
    "            oracle_qc.x(1) #NOT em |y>\n",
    "    \n",
    "    if caso == 'balanceada':\n",
    "        c = random.randint(1,2)\n",
    "        if c==1:\n",
    "            oracle_qc.cx(0,1) #CNOT \n",
    "        else:\n",
    "            oracle_qc.x(0) #NOT em |x>\n",
    "            oracle_qc.cx(0,1) #CNOT \n",
    "            oracle_qc.x(0) #NOT em |x>\n",
    "            \n",
    "    return oracle_qc"
   ]
  },
  {
   "cell_type": "code",
   "execution_count": 9,
   "id": "a67e2b27-830d-4b93-adb8-f3140ab07ee8",
   "metadata": {},
   "outputs": [],
   "source": [
    "list = ['balanceada', 'constante']\n",
    "caso = random.choice(list)"
   ]
  },
  {
   "cell_type": "code",
   "execution_count": 10,
   "id": "da19b7f0-7f94-4fca-a153-fdcaffc4350e",
   "metadata": {},
   "outputs": [],
   "source": [
    "qc = d_oracle(caso)\n",
    "gate = qc.to_gate(label='Uf')"
   ]
  },
  {
   "cell_type": "code",
   "execution_count": 12,
   "id": "94a22316-bfc0-42ad-8087-eb97b0966795",
   "metadata": {},
   "outputs": [
    {
     "data": {
      "image/png": "[encoded data removed]",
      "text/plain": [
       "<Figure size 538.128x284.278 with 1 Axes>"
      ]
     },
     "execution_count": 12,
     "metadata": {},
     "output_type": "execute_result"
    }
   ],
   "source": [
    "o_circuit = QuantumCircuit(2,2)\n",
    "\n",
    "o_circuit.initialize([1,0],0)\n",
    "o_circuit.initialize([1,0],1)\n",
    "o_circuit.h(0)\n",
    "o_circuit.h(1)\n",
    "\n",
    "o_circuit.append(gate,[0,1])\n",
    "o_circuit.h(0)\n",
    "\n",
    "#o_circuit.mesure([0,1],[0,1])\n",
    "o_circuit.measure(0,0)\n",
    "\n",
    "o_circuit.draw(\"mpl\")"
   ]
  },
  {
   "cell_type": "code",
   "execution_count": 15,
   "id": "abb1bee3-b7da-4fb8-934b-57ec46c0467f",
   "metadata": {},
   "outputs": [
    {
     "data": {
      "text/plain": [
       "{'00': 1}"
      ]
     },
     "execution_count": 15,
     "metadata": {},
     "output_type": "execute_result"
    }
   ],
   "source": [
    "simulador_aer = AerSimulator()\n",
    "qc_t = transpile(o_circuit, backend=simulador_aer)\n",
    "resultado = simulador_aer.run(qc_t, shots=1).result()\n",
    "resultado.get_counts()"
   ]
  },
  {
   "cell_type": "code",
   "execution_count": 16,
   "id": "e5d103f6-6fb3-4d29-9616-a9b55c0b3dd1",
   "metadata": {},
   "outputs": [
    {
     "data": {
      "text/plain": [
       "'constante'"
      ]
     },
     "execution_count": 16,
     "metadata": {},
     "output_type": "execute_result"
    }
   ],
   "source": [
    "caso"
   ]
  }
 ],
 "metadata": {
  "kernelspec": {
   "display_name": "Python 3 (ipykernel)",
   "language": "python",
   "name": "python3"
  },
  "language_info": {
   "codemirror_mode": {
    "name": "ipython",
    "version": 3
   },
   "file_extension": ".py",
   "mimetype": "text/x-python",
   "name": "python",
   "nbconvert_exporter": "python",
   "pygments_lexer": "ipython3",
   "version": "3.12.3"
  }
 },
 "nbformat": 4,
 "nbformat_minor": 5
}
