{
 "cells": [
  {
   "cell_type": "code",
   "execution_count": 2,
   "id": "69a68c56-76ba-42eb-aa6d-3a9c90e9f90b",
   "metadata": {},
   "outputs": [
    {
     "ename": "ImportError",
     "evalue": "cannot import name 'execute' from 'qiskit' (C:\\Users\\Admin\\miniconda3\\envs\\qiskit\\Lib\\site-packages\\qiskit\\__init__.py)",
     "output_type": "error",
     "traceback": [
      "\u001b[1;31m---------------------------------------------------------------------------\u001b[0m",
      "\u001b[1;31mImportError\u001b[0m                               Traceback (most recent call last)",
      "Cell \u001b[1;32mIn[2], line 1\u001b[0m\n\u001b[1;32m----> 1\u001b[0m \u001b[38;5;28;01mfrom\u001b[39;00m \u001b[38;5;21;01mqiskit\u001b[39;00m \u001b[38;5;28;01mimport\u001b[39;00m QuantumCircuit, transpile, assemble, execute\n\u001b[0;32m      2\u001b[0m \u001b[38;5;28;01mfrom\u001b[39;00m \u001b[38;5;21;01mqiskit\u001b[39;00m\u001b[38;5;21;01m.\u001b[39;00m\u001b[38;5;21;01mvisualization\u001b[39;00m \u001b[38;5;28;01mimport\u001b[39;00m plot_histogram\n\u001b[0;32m      3\u001b[0m \u001b[38;5;28;01mfrom\u001b[39;00m \u001b[38;5;21;01mqiskit_aer\u001b[39;00m \u001b[38;5;28;01mimport\u001b[39;00m AerSimulator\n",
      "\u001b[1;31mImportError\u001b[0m: cannot import name 'execute' from 'qiskit' (C:\\Users\\Admin\\miniconda3\\envs\\qiskit\\Lib\\site-packages\\qiskit\\__init__.py)"
     ]
    }
   ],
   "source": [
    "from qiskit import QuantumCircuit, transpile, assemble, execute\n",
    "from qiskit.visualization import plot_histogram\n",
    "from qiskit_aer import AerSimulator\n",
    "\n",
    "def repetition_code_circuit():\n",
    "    # Criação do circuito quântico\n",
    "    qc = QuantumCircuit(3, 3)\n",
    "    \n",
    "    # Codificação do qubit lógico |0_L> ou |1_L>\n",
    "    # Aqui codificamos o estado |0_L> = |000>\n",
    "    \n",
    "    # Aplicando uma operação de flip de fase (Z gate) em um qubit de dados\n",
    "    qc.x(0)  # Estado inicial como |1_L>\n",
    "    \n",
    "    # Aplicação de correção de erros\n",
    "    qc.h(1)  # Aplicando uma Hadamard no qubit 1\n",
    "    qc.cx(0, 1)  # CNOT entre qubit 0 e qubit 1\n",
    "    qc.cx(1, 2)  # CNOT entre qubit 1 e qubit 2\n",
    "    qc.h(1)  # Aplicando Hadamard novamente no qubit 1\n",
    "    \n",
    "    # Medição para detectar erros\n",
    "    qc.measure([0, 1, 2], [0, 1, 2])\n",
    "    \n",
    "    return qc\n",
    "\n",
    "def run_simulation(circuit):\n",
    "    # Simulador de backend\n",
    "    simulator = AerSimulator()\n",
    "    \n",
    "    # Compilação do circuito\n",
    "    compiled_circuit = transpile(circuit, simulator)\n",
    "    \n",
    "    # Execução do circuito\n",
    "    job = execute(compiled_circuit, simulator, shots=1024)\n",
    "    \n",
    "    # Coleta dos resultados\n",
    "    result = job.result()\n",
    "    counts = result.get_counts(circuit)\n",
    "    \n",
    "    return counts\n",
    "\n",
    "# Criação e execução do circuito\n",
    "circuit = repetition_code_circuit()\n",
    "results = run_simulation(circuit)\n",
    "\n",
    "# Visualização dos resultados\n",
    "plot_histogram(results).show()\n"
   ]
  },
  {
   "cell_type": "markdown",
   "id": "54d60efd-3266-46c1-bb01-1f0d6d58a8ec",
   "metadata": {},
   "source": [
    "desenvolva um c odigo de repetiçã para proteger do erro de phase-flip. \n",
    "Analise a prote ̧c ̃ao em função do número de qubits f ısicos usados para codificar oqubit logico."
   ]
  },
  {
   "cell_type": "code",
   "execution_count": null,
   "id": "e1d8952a-cc0a-4148-a453-8af51bc2680e",
   "metadata": {},
   "outputs": [],
   "source": []
  }
 ],
 "metadata": {
  "kernelspec": {
   "display_name": "Python 3 (ipykernel)",
   "language": "python",
   "name": "python3"
  },
  "language_info": {
   "codemirror_mode": {
    "name": "ipython",
    "version": 3
   },
   "file_extension": ".py",
   "mimetype": "text/x-python",
   "name": "python",
   "nbconvert_exporter": "python",
   "pygments_lexer": "ipython3",
   "version": "3.12.3"
  }
 },
 "nbformat": 4,
 "nbformat_minor": 5
}
