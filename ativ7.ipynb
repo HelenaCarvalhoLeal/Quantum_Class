{
 "cells": [
  {
   "cell_type": "markdown",
   "id": "54d60efd-3266-46c1-bb01-1f0d6d58a8ec",
   "metadata": {},
   "source": [
    "desenvolva um c odigo de repetição para proteger do erro de phase-flip. \n",
    "Analise a proteção em função do número de qubits físicos usados para codificar o qubit lógico."
   ]
  },
  {
   "cell_type": "code",
   "execution_count": 9,
   "id": "dd559fc4-aafd-49b6-9e3c-9ab20de1fe3a",
   "metadata": {},
   "outputs": [
    {
     "data": {
      "image/png": "[encoded data removed]",
      "text/plain": [
       "<Figure size 640x480 with 1 Axes>"
      ]
     },
     "execution_count": 9,
     "metadata": {},
     "output_type": "execute_result"
    }
   ],
   "source": [
    "from qiskit import QuantumCircuit, transpile\n",
    "from qiskit.visualization import plot_histogram\n",
    "from qiskit_aer import AerSimulator\n",
    "\n",
    "# Configuração para exibir gráficos diretamente no Jupyter Notebook\n",
    "%matplotlib inline\n",
    "\n",
    "def repetition_code_circuit():\n",
    "    # Criação do circuito quântico\n",
    "    qc = QuantumCircuit(3, 3)\n",
    "    \n",
    "    # Codificação do qubit lógico |0_L> ou |1_L>\n",
    "    # Aqui codificamos o estado |0_L> = |000>\n",
    "    \n",
    "    # Aplicando uma operação de flip de fase (Z gate) em um qubit de dados\n",
    "    qc.x(0)  # Estado inicial como |1_L>\n",
    "    \n",
    "    # Aplicação de correção de erros\n",
    "    qc.h(1)  # Aplicando uma Hadamard no qubit 1\n",
    "    qc.cx(0, 1)  # CNOT entre qubit 0 e qubit 1\n",
    "    qc.cx(1, 2)  # CNOT entre qubit 1 e qubit 2\n",
    "    qc.h(1)  # Aplicando Hadamard novamente no qubit 1\n",
    "    \n",
    "    # Medição para detectar erros\n",
    "    qc.measure([0, 1, 2], [0, 1, 2])\n",
    "    \n",
    "    return qc\n",
    "\n",
    "def run_simulation(circuit):\n",
    "    # Simulador de backend\n",
    "    simulator = AerSimulator()\n",
    "    \n",
    "    # Compilação do circuito\n",
    "    compiled_circuit = transpile(circuit, simulator)\n",
    "    \n",
    "    # Execução do circuito\n",
    "    result = simulator.run(compiled_circuit, shots=1024).result()\n",
    "    counts = result.get_counts(circuit)\n",
    "    \n",
    "    return counts\n",
    "\n",
    "# Criação e execução do circuito\n",
    "circuit = repetition_code_circuit()\n",
    "results = run_simulation(circuit)\n",
    "\n",
    "# Visualização dos resultados\n",
    "plot_histogram(results)\n"
   ]
  },
  {
   "cell_type": "markdown",
   "id": "52f1018c-4e1e-4ee8-b56c-a6c187919e44",
   "metadata": {},
   "source": [
    "Considerando o código de repetição com 3 qubits f ısicos, mostre que o algoritmo também é eficiente para proteger o estado |ψ⟩L = 1√2(|0⟩ + |1⟩)"
   ]
  },
  {
   "cell_type": "code",
   "execution_count": 17,
   "id": "bc435a89-0a0a-49cd-b969-10d920d638ce",
   "metadata": {},
   "outputs": [
    {
     "name": "stdout",
     "output_type": "stream",
     "text": [
      "{'111': 542, '001': 486, '110': 520, '000': 476}\n"
     ]
    }
   ],
   "source": [
    "from qiskit import QuantumCircuit\n",
    "from qiskit_aer import AerSimulator\n",
    "from qiskit.visualization import plot_histogram\n",
    "\n",
    "# Função para criar o circuito para codificar o estado lógico |ψ⟩L\n",
    "def encode_state(circuit):\n",
    "    # Aplicar a porta Hadamard ao qubit de entrada\n",
    "    circuit.h(0)\n",
    "    # Repetir o estado |0⟩L = |000⟩ e |1⟩L = |111⟩\n",
    "    circuit.barrier()\n",
    "    # Aplicar a operação CNOT para codificar |0⟩L\n",
    "    circuit.cx(0, 1)\n",
    "    circuit.cx(0, 2)\n",
    "    return circuit\n",
    "\n",
    "# Função para aplicar erros aos qubits físicos\n",
    "def apply_errors(circuit):\n",
    "    # Aplicar erros de bit flip (X) ou phase flip (Z) aos qubits físicos\n",
    "    circuit.x(0)  # Exemplo: aplicar um erro X no primeiro qubit\n",
    "    return circuit\n",
    "\n",
    "# Função para decodificar o estado lógico\n",
    "def decode_state(circuit):\n",
    "    # Corrigir os erros aplicando portas de correção de erros\n",
    "    circuit.barrier()\n",
    "    circuit.cx(1, 0)\n",
    "    circuit.cx(2, 0)\n",
    "    circuit.h(0)\n",
    "    return circuit\n",
    "\n",
    "# Função principal para a simulação\n",
    "def main():\n",
    "    # Criar o circuito quântico\n",
    "    circuit = QuantumCircuit(3, 3)\n",
    "    \n",
    "    # Codificar o estado lógico\n",
    "    circuit = encode_state(circuit)\n",
    "    \n",
    "    # Aplicar erros\n",
    "    circuit = apply_errors(circuit)\n",
    "    \n",
    "    # Decodificar o estado\n",
    "    circuit = decode_state(circuit)\n",
    "    \n",
    "    # Medir os qubits\n",
    "    circuit.measure([0,1,2], [0,1,2])\n",
    "    \n",
    "    # Usar o AerSimulator\n",
    "    simulator = AerSimulator()\n",
    "    # Executar a simulação\n",
    "    result = simulator.run(circuit, shots=2024).result()\n",
    "    counts = result.get_counts(circuit)\n",
    "    \n",
    "    # Plotar o resultado\n",
    "    plot_histogram(counts)\n",
    "    print(counts)\n",
    "\n",
    "# Executar a função principal\n",
    "main()\n"
   ]
  },
  {
   "cell_type": "code",
   "execution_count": null,
   "id": "b2d1cf35-6756-44f5-ac02-777be85daf25",
   "metadata": {},
   "outputs": [],
   "source": []
  }
 ],
 "metadata": {
  "kernelspec": {
   "display_name": "Python 3 (ipykernel)",
   "language": "python",
   "name": "python3"
  },
  "language_info": {
   "codemirror_mode": {
    "name": "ipython",
    "version": 3
   },
   "file_extension": ".py",
   "mimetype": "text/x-python",
   "name": "python",
   "nbconvert_exporter": "python",
   "pygments_lexer": "ipython3",
   "version": "3.12.3"
  }
 },
 "nbformat": 4,
 "nbformat_minor": 5
}
