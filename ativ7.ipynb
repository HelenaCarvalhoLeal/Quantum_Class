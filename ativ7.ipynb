{
 "cells": [
  {
   "cell_type": "code",
   "execution_count": 1,
   "id": "c12390e7-c3f2-4e19-9ef6-f3e9de045c08",
   "metadata": {},
   "outputs": [],
   "source": [
    "from qiskit import QuantumCircuit, transpile\n",
    "from qiskit_aer import AerSimulator\n",
    "from qiskit.visualization import plot_histogram, plot_bloch_multivector\n",
    "import qiskit.quantum_info as qi\n",
    "from qiskit.quantum_info import Operator, Pauli\n",
    "from qiskit.primitives import Sampler, Estimator\n",
    "import numpy as np\n",
    "from qiskit.circuit.library import RXGate\n",
    "from qiskit_ibm_runtime import QiskitRuntimeService"
   ]
  },
  {
   "cell_type": "markdown",
   "id": "32883357-44fc-4e2e-997f-5185b5e82541",
   "metadata": {},
   "source": [
    "a) Calcule a QFT do estado 1/√2(|000⟩ + |111⟩)."
   ]
  },
  {
   "cell_type": "code",
   "execution_count": null,
   "id": "b6ee2829-0efa-4ead-8a2b-d07eac5d471f",
   "metadata": {},
   "outputs": [],
   "source": []
  }
 ],
 "metadata": {
  "kernelspec": {
   "display_name": "Python 3 (ipykernel)",
   "language": "python",
   "name": "python3"
  },
  "language_info": {
   "codemirror_mode": {
    "name": "ipython",
    "version": 3
   },
   "file_extension": ".py",
   "mimetype": "text/x-python",
   "name": "python",
   "nbconvert_exporter": "python",
   "pygments_lexer": "ipython3",
   "version": "3.12.3"
  }
 },
 "nbformat": 4,
 "nbformat_minor": 5
}
